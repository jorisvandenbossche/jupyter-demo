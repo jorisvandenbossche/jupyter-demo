{
 "cells": [
  {
   "cell_type": "code",
   "execution_count": 2,
   "metadata": {
    "collapsed": true,
    "slideshow": {
     "slide_type": "skip"
    }
   },
   "outputs": [],
   "source": [
    "%matplotlib inline"
   ]
  },
  {
   "cell_type": "code",
   "execution_count": 7,
   "metadata": {
    "collapsed": false,
    "slideshow": {
     "slide_type": "skip"
    }
   },
   "outputs": [],
   "source": [
    "import numpy as np\n",
    "import matplotlib.pyplot as plt\n",
    "import seaborn as sns"
   ]
  },
  {
   "cell_type": "markdown",
   "metadata": {
    "slideshow": {
     "slide_type": "slide"
    }
   },
   "source": [
    "# Game of life"
   ]
  },
  {
   "cell_type": "markdown",
   "metadata": {
    "slideshow": {
     "slide_type": "subslide"
    }
   },
   "source": [
    "In 1970 the British Mathematician John Conway created his \"Game of Life\" -- \n",
    "a set of rules that mimics the chaotic yet patterned growth of a colony of biological organisms.  The \"game\" takes place on a two-dimensional grid consisting of \"living\" and \"dead\" cells, and the rules to step from generation to generation are simple:\n",
    "\n",
    "- **Overpopulation:** if a living cell is surrounded by more than three living cells, it dies.\n",
    "- **Stasis:** if a living cell is surrounded by two or three living cells, it survives.\n",
    "- **Underpopulation:** if a living cell is surrounded by fewer than two living cells, it dies.\n",
    "- **Reproduction:** if a dead cell is surrounded by exactly three cells, it becomes a live cell.\n",
    "\n",
    "By enforcing these rules in sequential steps, beautiful and unexpected patterns can appear."
   ]
  },
  {
   "cell_type": "markdown",
   "metadata": {
    "slideshow": {
     "slide_type": "subslide"
    }
   },
   "source": [
    "## Short:\n",
    "* **overpopulation**: > 3 nbs  <font color=\"#386BBC\">dead</font>\n",
    "* **statis - surviving**: 2/3 nbs <font color=\"#386BBC\">staying alive</font>\n",
    "* **underpopulation**: < 2 nbs <font color=\"#386BBC\">dead</font>\n",
    "* **reproduction**: == 3nbs <font color=\"#386BBC\">birth</font>"
   ]
  },
  {
   "cell_type": "markdown",
   "metadata": {
    "slideshow": {
     "slide_type": "subslide"
    }
   },
   "source": [
    "Implementation, using scipy package in python translates these rules:"
   ]
  },
  {
   "cell_type": "code",
   "execution_count": 4,
   "metadata": {
    "collapsed": true,
    "slideshow": {
     "slide_type": "fragment"
    }
   },
   "outputs": [],
   "source": [
    "def life_step(X):\n",
    "    \"\"\"Game of life step using scipy tools\"\"\"\n",
    "    from scipy.signal import convolve2d\n",
    "    nbrs_count = convolve2d(X, np.ones((3, 3)), mode='same', boundary='wrap') - X\n",
    "    return (nbrs_count == 3) | (X & (nbrs_count == 2))"
   ]
  },
  {
   "cell_type": "markdown",
   "metadata": {
    "slideshow": {
     "slide_type": "fragment"
    }
   },
   "source": [
    "As such, we can calculate a next step by running this function"
   ]
  },
  {
   "cell_type": "markdown",
   "metadata": {
    "slideshow": {
     "slide_type": "slide"
    }
   },
   "source": [
    "To illustrate the importance of the initialization, let's consider the following situation. "
   ]
  },
  {
   "cell_type": "code",
   "execution_count": 5,
   "metadata": {
    "collapsed": true,
    "slideshow": {
     "slide_type": "fragment"
    }
   },
   "outputs": [],
   "source": [
    "# A custom function was written to perform the function a number of times and visualize the output:\n",
    "from support_functions import life_animation"
   ]
  },
  {
   "cell_type": "code",
   "execution_count": 9,
   "metadata": {
    "collapsed": false,
    "slideshow": {
     "slide_type": "subslide"
    }
   },
   "outputs": [
    {
     "data": {
      "text/html": [
       "\n",
       "<script language=\"javascript\">\n",
       "  /* Define the Animation class */\n",
       "  function Animation(frames, img_id, slider_id, interval, loop_select_id){\n",
       "    this.img_id = img_id;\n",
       "    this.slider_id = slider_id;\n",
       "    this.loop_select_id = loop_select_id;\n",
       "    this.interval = interval;\n",
       "    this.current_frame = 0;\n",
       "    this.direction = 0;\n",
       "    this.timer = null;\n",
       "    this.frames = new Array(frames.length);\n",
       "\n",
       "    for (var i=0; i<frames.length; i++)\n",
       "    {\n",
       "     this.frames[i] = new Image();\n",
       "     this.frames[i].src = frames[i];\n",
       "    }\n",
       "    document.getElementById(this.slider_id).max = this.frames.length - 1;\n",
       "    this.set_frame(this.current_frame);\n",
       "  }\n",
       "\n",
       "  Animation.prototype.get_loop_state = function(){\n",
       "    var button_group = document[this.loop_select_id].state;\n",
       "    for (var i = 0; i < button_group.length; i++) {\n",
       "        var button = button_group[i];\n",
       "        if (button.checked) {\n",
       "            return button.value;\n",
       "        }\n",
       "    }\n",
       "    return undefined;\n",
       "  }\n",
       "\n",
       "  Animation.prototype.set_frame = function(frame){\n",
       "    this.current_frame = frame;\n",
       "    document.getElementById(this.img_id).src = this.frames[this.current_frame].src;\n",
       "    document.getElementById(this.slider_id).value = this.current_frame;\n",
       "  }\n",
       "\n",
       "  Animation.prototype.next_frame = function()\n",
       "  {\n",
       "    this.set_frame(Math.min(this.frames.length - 1, this.current_frame + 1));\n",
       "  }\n",
       "\n",
       "  Animation.prototype.previous_frame = function()\n",
       "  {\n",
       "    this.set_frame(Math.max(0, this.current_frame - 1));\n",
       "  }\n",
       "\n",
       "  Animation.prototype.first_frame = function()\n",
       "  {\n",
       "    this.set_frame(0);\n",
       "  }\n",
       "\n",
       "  Animation.prototype.last_frame = function()\n",
       "  {\n",
       "    this.set_frame(this.frames.length - 1);\n",
       "  }\n",
       "\n",
       "  Animation.prototype.slower = function()\n",
       "  {\n",
       "    this.interval /= 0.7;\n",
       "    if(this.direction > 0){this.play_animation();}\n",
       "    else if(this.direction < 0){this.reverse_animation();}\n",
       "  }\n",
       "\n",
       "  Animation.prototype.faster = function()\n",
       "  {\n",
       "    this.interval *= 0.7;\n",
       "    if(this.direction > 0){this.play_animation();}\n",
       "    else if(this.direction < 0){this.reverse_animation();}\n",
       "  }\n",
       "\n",
       "  Animation.prototype.anim_step_forward = function()\n",
       "  {\n",
       "    this.current_frame += 1;\n",
       "    if(this.current_frame < this.frames.length){\n",
       "      this.set_frame(this.current_frame);\n",
       "    }else{\n",
       "      var loop_state = this.get_loop_state();\n",
       "      if(loop_state == \"loop\"){\n",
       "        this.first_frame();\n",
       "      }else if(loop_state == \"reflect\"){\n",
       "        this.last_frame();\n",
       "        this.reverse_animation();\n",
       "      }else{\n",
       "        this.pause_animation();\n",
       "        this.last_frame();\n",
       "      }\n",
       "    }\n",
       "  }\n",
       "\n",
       "  Animation.prototype.anim_step_reverse = function()\n",
       "  {\n",
       "    this.current_frame -= 1;\n",
       "    if(this.current_frame >= 0){\n",
       "      this.set_frame(this.current_frame);\n",
       "    }else{\n",
       "      var loop_state = this.get_loop_state();\n",
       "      if(loop_state == \"loop\"){\n",
       "        this.last_frame();\n",
       "      }else if(loop_state == \"reflect\"){\n",
       "        this.first_frame();\n",
       "        this.play_animation();\n",
       "      }else{\n",
       "        this.pause_animation();\n",
       "        this.first_frame();\n",
       "      }\n",
       "    }\n",
       "  }\n",
       "\n",
       "  Animation.prototype.pause_animation = function()\n",
       "  {\n",
       "    this.direction = 0;\n",
       "    if (this.timer){\n",
       "      clearInterval(this.timer);\n",
       "      this.timer = null;\n",
       "    }\n",
       "  }\n",
       "\n",
       "  Animation.prototype.play_animation = function()\n",
       "  {\n",
       "    this.pause_animation();\n",
       "    this.direction = 1;\n",
       "    var t = this;\n",
       "    if (!this.timer) this.timer = setInterval(function(){t.anim_step_forward();}, this.interval);\n",
       "  }\n",
       "\n",
       "  Animation.prototype.reverse_animation = function()\n",
       "  {\n",
       "    this.pause_animation();\n",
       "    this.direction = -1;\n",
       "    var t = this;\n",
       "    if (!this.timer) this.timer = setInterval(function(){t.anim_step_reverse();}, this.interval);\n",
       "  }\n",
       "</script>\n",
       "\n",
       "<div class=\"animation\" align=\"center\">\n",
       "    <img id=\"_anim_imgOZINSDULHLNNNWCM\">\n",
       "    <br>\n",
       "    <input id=\"_anim_sliderOZINSDULHLNNNWCM\" type=\"range\" style=\"width:350px\" name=\"points\" min=\"0\" max=\"1\" step=\"1\" value=\"0\" onchange=\"animOZINSDULHLNNNWCM.set_frame(parseInt(this.value));\"></input>\n",
       "    <br>\n",
       "    <button onclick=\"animOZINSDULHLNNNWCM.slower()\">&#8211;</button>\n",
       "    <button onclick=\"animOZINSDULHLNNNWCM.first_frame()\"><img class=\"anim_icon\" src=\"data:image/png;base64,iVBORw0KGgoAAAANSUhEUgAAABQAAAAUCAQAAAAngNWGAAAAAXNSR0IArs4c6QAAAAJiS0dEAP+Hj8y/AAAACXBIWXMAAAsTAAALEwEAmpwYAAAAB3RJTUUH3QURCAgaeZk4EQAAASlJREFUKM/dkj9LQnEUhp9zr3bpj1uBcKGiJWxzLWivKAIRjIhcCqcgqJbKRagPICiVSVEuNTu0tLYGUg4tkRGUdxLJ0u79Ndxr5FfwTO/L+xzO4XCgO+v2T70AFU+/A/Dhmlzg6Pr0DKAMwOH4zQxAAbAkv2xNeF2RoQUVc1ytgttXUbWVdN1dOPE8pz4j4APQsdFtKA0WY6vpKjqvVciHnvZTS6Ja4HgggJLs7MHxl9nCh8NYcO+iGG0agiaC4h9oa6Vsw2yiK+QHSZT934YoEQABNBcTNDszsrhm1m1B+bFS86PT6QFppx6oeSaeOwlMXRp1h4aK13Y2kuHhUo9ykPboPvFjeEvsrhTMt3ylHyB0r8KZyYdCrbfj4OveoHMANjuyx+76rV+/blxKMZUnLgAAAABJRU5ErkJggg==\"></button>\n",
       "    <button onclick=\"animOZINSDULHLNNNWCM.previous_frame()\"><img class=\"anim_icon\" src=\"data:image/png;base64,iVBORw0KGgoAAAANSUhEUgAAABQAAAAUCAQAAAAngNWGAAAAAXNSR0IArs4c6QAAAAJiS0dEAP+Hj8y/AAAACXBIWXMAAAsTAAALEwEAmpwYAAAAB3RJTUUH3QURCAgyTCyQ6wAAANRJREFUKM9jYBjO4AiUfgzFGGAp4+yayUvX6jMwMDCsYmBgOCS4OAOrSYmMgcc8/pd5Q3irC+Neh/1AlmeBMVgZmP8yMLD8/c/cqv9r90whzv/MX7Eq/MfAwMDIwCuZdfSV8U8WDgZGRmYGrAoZGRgY/jO8b3sj/J2F6T8j4z80pzEhmIwMjAxsSbqqlkeZGP//Z8SlkJnhPwMjwx/Guoe1NhmRwk+YGH5jV8jOwMPHzcDBysAwh8FrxQwtPU99HrwBXsnAwMDAsJiBgYGBoZ1xmKYqALHhMpn1o7igAAAAAElFTkSuQmCC\"></button>\n",
       "    <button onclick=\"animOZINSDULHLNNNWCM.reverse_animation()\"><img class=\"anim_icon\" src=\"data:image/png;base64,iVBORw0KGgoAAAANSUhEUgAAABQAAAAUCAQAAAAngNWGAAAAAXNSR0IArs4c6QAAAAJiS0dEAP+Hj8y/AAAACXBIWXMAAAsTAAALEwEAmpwYAAAAB3RJTUUH3QURCAgmVvZElgAAAVFJREFUKM+t0k8ow3EYx/H3s/2aLDUSZctFkgsHEi1XLi5ukpPSWsuJklwclsPSsDKFi7MSJ0I5qF2GHO2m0FY7+BdNv7Y9DpuxDSt5vsfvq+fT9/k+8D8VBxIAWH6H0ead4Qb5BRwCENoceZi5Stl/6BgCBmtWhjzxg4mUQ02rAhil7JgB9tze7aTLxFAKsUUd14B9ZzCyFUk401gQyQJaDNcBHwv7t7ETd0ZVQFEEzcNCdE/1wtj15imGWlEB8qkf2QaAWjbG/bPSamIDyX65/iwDIFx7tWjUvWCoSo5oGbYATN7PORt7W9IZEQXJH8ohuN7C0VVX91KNqYhq4a1lEGJI0j892tazXCWQRUpwAbYDcHczPxXuajq3mbnhfANz5eOJxsuNvs7+jud0UcuyL3QAkuEMx4rnIvBYq1JhEwPAUb3fG7x8tVdc292/7Po7f2VqA+Yz7ZwAAAAASUVORK5CYII=\"></button>\n",
       "    <button onclick=\"animOZINSDULHLNNNWCM.pause_animation()\"><img class=\"anim_icon\" src=\"data:image/png;base64,iVBORw0KGgoAAAANSUhEUgAAABQAAAAUCAQAAAAngNWGAAAAAXNSR0IArs4c6QAAAAJiS0dEAP+Hj8y/AAAACXBIWXMAAAsTAAALEwEAmpwYAAAAB3RJTUUH3QURCAkR91DQ2AAAAKtJREFUKM9jYCANTEVib2K4jcRbzQihGWEC00JuNjN8Z2Q0Zo3VYWA4lL005venH9+c3ZK5IfIsMIXMBtc12Bj+MMgxMDAwMPzWe2TBzPCf4SLcZCYY4/9/RgZGBiaYFf8gljFhKiQERhUOeoX/Gf8y/GX4y/APmlj+Mfxj+MfwH64Qnnq0zr9fyfLrPzP3eQYGBobvk5x4GX4xMIij23gdib0cRWYHiVmAAQDK5ircshCbHQAAAABJRU5ErkJggg==\"></button>\n",
       "    <button onclick=\"animOZINSDULHLNNNWCM.play_animation()\"><img class=\"anim_icon\" src=\"data:image/png;base64,iVBORw0KGgoAAAANSUhEUgAAABQAAAAUCAQAAAAngNWGAAAAAXNSR0IArs4c6QAAAAJiS0dEAP+Hj8y/AAAACXBIWXMAAAsTAAALEwEAmpwYAAAAB3RJTUUH3QURCAkEmo00MwAAAS9JREFUKM+tkj1IQmEUhp9j94LQj0FD4RRBLdLQ3ftb26PRcCiQIIiIDFwKC0OhaAiam5wVDBpqCKohQojMLYzaAiUatOtpuQrKVQl64fu+4Xt4OLwc+Fs+nNM16jsPAWS6gZXggoZfXmfhog3hcZ6aTXF87Sp68OmH4/YggAo8bmfyyeh6Z1AAKPVldyO1+Iz2uILq3AriJSe3l+H7aj+cuRnrTsVDxSxay+VYbMDnCtZxxQOU9G4nlU9E1HQBxRkCQMRGRnIbpxMARkvxCIoAorYMMrq0mJ0qu4COUW3xyVDqJC4P+86P0ewDQbQqgevhlc2C8ETApXAEFLzvwa3EXG9BoIE1GQUbv1h7k4fTXxBu6cKgUbX5M3ZzNC+a7rQ936HV56SlRpcle+Mf8wvgJ16zo/4BtQAAAABJRU5ErkJggg==\"></button>\n",
       "    <button onclick=\"animOZINSDULHLNNNWCM.next_frame()\"><img class=\"anim_icon\" src=\"data:image/png;base64,iVBORw0KGgoAAAANSUhEUgAAABQAAAAUCAQAAAAngNWGAAAAAXNSR0IArs4c6QAAAAJiS0dEAP+Hj8y/AAAACXBIWXMAAAsTAAALEwEAmpwYAAAAB3RJTUUH3QURCAkd/uac8wAAAMhJREFUKM9jYBie4DEUQ8B+fEq3+3UrMzAwMFxjYGBgYJizYubaOUxYFUaXh/6vWfRfEMIL/+//P5gZJoei4/f/7wxnY1PeNUXdE2RgYGZgYoCrY2BBVsjKwMDAwvCS4f3SG/dXxm5gYESSQ1HIwvCPgZmB8f8Pxv+Kxxb/YfiPJIdi9T8GJgaG/38ZFd4Fx0xUYsZt4h8GBgb2D2bLy7KnMTAwMEIxFoVCXIYr1IoDnkF4XAysqNIwUMDAwMDAsADKS2NkGL4AAIARMlfNIfZMAAAAAElFTkSuQmCC\"></button>\n",
       "    <button onclick=\"animOZINSDULHLNNNWCM.last_frame()\"><img class=\"anim_icon\" src=\"data:image/png;base64,iVBORw0KGgoAAAANSUhEUgAAABQAAAAUCAQAAAAngNWGAAAAAXNSR0IArs4c6QAAAAJiS0dEAP+Hj8y/AAAACXBIWXMAAAsTAAALEwEAmpwYAAAAB3RJTUUH3QURCAknOOpFQQAAAS9JREFUKM/dkrEvQ3EQxz/33mtoQxiYpANbLU26NAabSCcSUouGBVNDjYQaOiDpIEiKjURIw2Kx04hEYmkHEpGoJpSISaXq9Wd4P03/ht5y98197/u9XA4aK4rAWw3lgWddZ3S+/G9mEovtAB8AHE4pgTQAx8PbJweRmsq6GimmNpxaNYXVzMNNCI6A2figimwCGACK786zuWgh3qcsKf/w0pM4X0m/doNVFVzVGlEQsdRj193VxEWpH0RsdRu+zi3tVMqCAsDShoiYqiSV4OouVDFEqS9Pbiyg7vV62lpQ2BJ4Gg0meg0MbNpkYG/e+540NNFyrE1a8qHk5BaAjfnrzUaHfAWImVrLIXbgnx4/9X06s35cweWsVACa3a24PVp0X+rPv1aHFnSONdiL8Qci0lzwpOM5sQAAAABJRU5ErkJggg==\"></button>\n",
       "    <button onclick=\"animOZINSDULHLNNNWCM.faster()\">+</button>\n",
       "  <form action=\"#n\" name=\"_anim_loop_selectOZINSDULHLNNNWCM\" class=\"anim_control\">\n",
       "    <input type=\"radio\" name=\"state\" value=\"once\" > Once </input>\n",
       "    <input type=\"radio\" name=\"state\" value=\"loop\" checked> Loop </input>\n",
       "    <input type=\"radio\" name=\"state\" value=\"reflect\" > Reflect </input>\n",
       "  </form>\n",
       "</div>\n",
       "\n",
       "\n",
       "<script language=\"javascript\">\n",
       "  /* Instantiate the Animation class. */\n",
       "  /* The IDs given should match those used in the template above. */\n",
       "  (function() {\n",
       "    var img_id = \"_anim_imgOZINSDULHLNNNWCM\";\n",
       "    var slider_id = \"_anim_sliderOZINSDULHLNNNWCM\";\n",
       "    var loop_select_id = \"_anim_loop_selectOZINSDULHLNNNWCM\";\n",
       "    var frames = new Array(0);\n",
       "    \n",
       "  frames[0] = \"data:image/png;base64,iVBORw0KGgoAAAANSUhEUgAAAHMAAABzCAYAAACrQz3mAAAABHNCSVQICAgIfAhkiAAAAAlwSFlzAAALEgAACxIB0t1+/AAAAUhJREFUeJzt28EJwzAQAEE55Kv+C1UBcQcJKDYJy8xfcLDc69AxxniNDWutnWfc6PHrAbiOmCFihogZImaImCFihogZImaImCFihogZImbIc/f6Mee8eJTPXGres5khYoaIGSJmiJghYoaIGSJmiJghYoaIGSJmiJghx9j8a/IN14972MwQMUPEDBEzRMwQMUPEDBEzRMwQMUPEDBEzRMwQMUO2Pw7xf2xmiJghYoaIGSJmiJghYoaIGSJmiJghYoaIGSJmiJghYoaIGSJmiJghYoaIGSJmiJghYoaIGSJmiJghYoaIGSJmiJghYoaIGSJmiJghYoaIGSJmiJghYoaIGSJmiJghYoaIGSJmiJghYoaIGSJmiJghYoaIGSJmiJghYoaIGSJmiJghYoaIGSJmiJghYoaIGSJmiJghYoaIGSJmiJghYoacTQkRS9ynEw8AAAAASUVORK5CYII=\"\n",
       "  frames[1] = \"data:image/png;base64,iVBORw0KGgoAAAANSUhEUgAAAHMAAABzCAYAAACrQz3mAAAABHNCSVQICAgIfAhkiAAAAAlwSFlzAAALEgAACxIB0t1+/AAAAUpJREFUeJzt27EJAzEQAEHZKFX/haoAfwV2oDfYLDP5gWC56NBj7/0aB9ZaJ2NjjDH23sezvPf89QP4HjFDxAwRM0TMEDFDxAwRM0TMEDFDxAwRM0TMkHk6eOfycXpxcW35zGaGiBkiZoiYIWKGiBkiZoiYIWKGiBkiZoiYIWKGzDt/RvgvNjNEzBAxQ8QMETNEzBAxQ8QMETNEzBAxQ8QMETNEzJDpM06HzQwRM0TMEDFDxAwRM0TMEDFDxAwRM0TMEDFDxAwRM0TMEDFDxAwRM0TMEDFDxAwRM0TMEDFDxAwRM0TMEDFDxAwRM0TMEDFDxAwRM0TMEDFDxAwRM0TMEDFDxAwRM0TMEDFDxAwRM0TMEDFDxAwRM0TMEDFDxAwRM0TMEDFDxAwRM0TMEDFDxAwRM0TMEDFDxAwRM0TMEDFDxAwRM0TMkAsJJhCdXjN7ggAAAABJRU5ErkJggg==\"\n",
       "  frames[2] = \"data:image/png;base64,iVBORw0KGgoAAAANSUhEUgAAAHMAAABzCAYAAACrQz3mAAAABHNCSVQICAgIfAhkiAAAAAlwSFlzAAALEgAACxIB0t1+/AAAAUxJREFUeJzt28EJwzAQAEE5+Kv+C1UBSQ9KjMN65m/OsNzr0LHWeg8SXnf/AL8jZoiYIWKGiBkiZoiYIWKGiBkiZoiYIWKGiBlyjDG2riZrre2hc86t776Z+QQ2M0TMEDFDxAwRM0TMEDFDxAwRM0TMEDFDxAwRM+TcvUTsXj64js0METNEzBAxQ8QMETNEzBAxQ8QMETNEzBAxQ8QMETPkvGOoB0DXsJkhYoaIGSJmiJghYoaIGSJmiJghYoaIGSJmiJgh21cTl4//YzNDxAwRM0TMEDFDxAwRM0TMEDFDxAwRM0TMEDFDxAwRM0TMEDFDxAwRM0TMEDFDxAwRM0TMEDFDxAwRM0TMEDFDxAwRM0TMEDFDxAwRM0TMEDFDxAwRM0TMEDFDxAwRM0TMEDFDxAwRM0TMEDFDxAwRM0TMEDFDxAwRM0TMEDFDPpbmFE2xZRGuAAAAAElFTkSuQmCC\"\n",
       "  frames[3] = \"data:image/png;base64,iVBORw0KGgoAAAANSUhEUgAAAHMAAABzCAYAAACrQz3mAAAABHNCSVQICAgIfAhkiAAAAAlwSFlzAAALEgAACxIB0t1+/AAAAUVJREFUeJzt3MEJwzAQAMEk6Kv+C70C4h6Eg8My8xcSLPc67PfMfF8kfJ5+APcRM0TMEDFDxAwRM0TMEDFDxAwRM0TMEDFDxAxZT1y69z46NzM3v6TFZIaIGSJmiJghYoaIGSJmiJghYoaIGSJmiJghYoYsG4wOkxkiZoiYIWKGiBkiZoiYIWKGiBkiZoiYIWKGiBkiZsg6XWWdrs74HZMZImaImCFihogZImaImCFihogZImaImCFihogZcvy7NR8O/R+TGSJmiJghYoaIGSJmiJghYoaIGSJmiJghYoaIGSJmiJghYoaIGSJmiJghYoaIGSJmiJghYoaIGSJmiJghYoaIGSJmiJghYoaIGSJmiJghYoaIGSJmiJghYoaIGSJmiJghYoaIGSJmiJghYoaIGSJmiJghYoaIGSJmiJghYoaIGXIBjGEQn5BcAW8AAAAASUVORK5CYII=\"\n",
       "  frames[4] = \"data:image/png;base64,iVBORw0KGgoAAAANSUhEUgAAAHMAAABzCAYAAACrQz3mAAAABHNCSVQICAgIfAhkiAAAAAlwSFlzAAALEgAACxIB0t1+/AAAAU5JREFUeJzt20EKAyEQAMEk5Or/H+oDsi/IRROE3qq7KDRzGnzOOT8PEl6nH8DviBkiZoiYIWKGiBkiZoiYIWKGiBkiZoiYIWKGvFcPjjGWL51zLp/lO5MZImaImCFihogZImaImCFihogZImaImCFihogZsrw12dl87GxcVt1hU2MyQ8QMETNEzBAxQ8QMETNEzBAxQ8QMETNEzBAxQ8QMOfJxaNUd1lg7TGaImCFihogZImaImCFihogZImaImCFihogZImbIkY9D/IfJDBEzRMwQMUPEDBEzRMwQMUPEDBEzRMwQMUPEDBEzRMwQMUPEDBEzRMwQMUPEDBEzRMwQMUPEDBEzRMwQMUPEDBEzRMwQMUPEDBEzRMwQMUPEDBEzRMwQMUPEDBEzRMwQMUPEDBEzRMwQMUPEDBEzRMwQMUPEDBEzRMwQMUPEDLkA3AQTeBh+9p0AAAAASUVORK5CYII=\"\n",
       "  frames[5] = \"data:image/png;base64,iVBORw0KGgoAAAANSUhEUgAAAHMAAABzCAYAAACrQz3mAAAABHNCSVQICAgIfAhkiAAAAAlwSFlzAAALEgAACxIB0t1+/AAAAU5JREFUeJzt28ENwjAQAEFAfNN/oVcA9OAEWVlm/pYtre518nNmPg8SXrsfwHXEDBEzRMwQMUPEDBEzRMwQMUPEDBEzRMwQMUPeOy49jmPp3Mxc/JIWkxkiZoiYIWKGiBkiZoiYIWKGiBkiZoiYIWKGiBmyZWuyuv1Y3bacufNOTGaImCFihogZImaImCFihogZImaImCFihogZImaImCHLK7Az6yh+w2SGiBkiZoiYIWKGiBkiZoiYIWKGiBkiZoiYIWKGLG9N/uEjzt2YzBAxQ8QMETNEzBAxQ8QMETNEzBAxQ8QMETNEzBAxQ8QMETNEzBAxQ8QMETNEzBAxQ8QMETNEzBAxQ8QMETNEzBAxQ8QMETNEzBAxQ8QMETNEzBAxQ8QMETNEzBAxQ8QMETNEzBAxQ8QMETNEzBAxQ8QMETNEzBAxQ8QMETNEzJAvIooQn+JW+fsAAAAASUVORK5CYII=\"\n",
       "  frames[6] = \"data:image/png;base64,iVBORw0KGgoAAAANSUhEUgAAAHMAAABzCAYAAACrQz3mAAAABHNCSVQICAgIfAhkiAAAAAlwSFlzAAALEgAACxIB0t1+/AAAAU1JREFUeJzt2zEOwjAUBUFAtL7/QX0AOAGNDbKyzPRRIq1+9ZT7nPN1I+Fx+gP4HjFDxAwRM0TMEDFDxAwRM0TMEDFDxAwRM0TMEDFDxAwRM0TMEDFDxAwRM0TMEDFDxAwRM0TMEDFDxAx5rj44xlh+6ZzzMu+8EpcZImaImCFihogZImaImCFihogZImaImCFihogZImbI8gS2MyntTFl85jJDxAwRM0TMEDFDxAwRM0TMEDFDxAwRM0TMEDFDlleTE/7h558dLjNEzBAxQ8QMETNEzBAxQ8QMETNEzBAxQ8QMETNEzJAjE5gp6zdcZoiYIWKGiBkiZoiYIWKGiBkiZoiYIWKGiBkiZoiYIWKGiBkiZoiYIWKGiBkiZoiYIWKGiBkiZoiYIWKGiBkiZoiYIWKGiBkiZoiYIWKGiBkiZoiYIWKGiBkiZoiYIW/4+xN4E+S2KAAAAABJRU5ErkJggg==\"\n",
       "  frames[7] = \"data:image/png;base64,iVBORw0KGgoAAAANSUhEUgAAAHMAAABzCAYAAACrQz3mAAAABHNCSVQICAgIfAhkiAAAAAlwSFlzAAALEgAACxIB0t1+/AAAAU5JREFUeJzt3DEKwzAQAMEkpNX/H6oHxC9IEdlBZpnpDQfLVYf1nHN+HiS8dg/AdcQMETNEzBAxQ8QMETNEzBAxQ8QMETNEzBAxQ8QMETNEzBAxQ8QMETNEzBAxQ8QMETNEzBAxQ8QMETPkvXuAX4wxlr+dc144yT3ZzBAxQ8QMETNEzBAxQ8QMETNEzBAxQ8QMETNEzBAxQ5ZPYM5R92MzQ8QMETNEzBAxQ8QMETNEzBAxQ8QMETNEzBAxQ5avJmcuH2cuLnxnM0PEDBEzRMwQMUPEDBEzRMwQMUPEDBEzRMwQMUPEDNnydp4fh/7DZoaIGSJmiJghYoaIGSJmiJghYoaIGSJmiJghYoaIGSJmiJghYoaIGSJmiJghYoaIGSJmiJghYoaIGSJmiJghYoaIGSJmiJghYoaIGSJmiJghYoaIGSJmiJghYoaIGXIAtlsQn5BAF/cAAAAASUVORK5CYII=\"\n",
       "  frames[8] = \"data:image/png;base64,iVBORw0KGgoAAAANSUhEUgAAAHMAAABzCAYAAACrQz3mAAAABHNCSVQICAgIfAhkiAAAAAlwSFlzAAALEgAACxIB0t1+/AAAAU5JREFUeJzt20EKAyEQAMEk5Or/H+oDsj/IwV0Qm6q7KDRzGnzPOX8vEj67H8BzxAwRM0TMEDFDxAwRM0TMEDFDxAwRM0TMEDFDxAwRM0TMEDFDxAwRM0TMEDFDxAwRM0TMEDFDxAwRM+S749IxxtK5OefDL2kxmSFihogZImaImCFihogZImaImCFihogZImaImCFihmxZga2uslZXZ3ectHYzmSFihogZImaImCFihogZImaImCFihogZImaImCFHfRy646TtxyqTGSJmiJghYoaIGSJmiJghYoaIGSJmiJghYoaIGSJmyFEfh/jPZIaIGSJmiJghYoaIGSJmiJghYoaIGSJmiJghYoaIGSJmiJghYoaIGSJmiJghYoaIGSJmiJghYoaIGSJmiJghYoaIGSJmiJghYoaIGSJmiJghYoaIGSJmiJghYoaIGXIBddwTeDo4NlkAAAAASUVORK5CYII=\"\n",
       "  frames[9] = \"data:image/png;base64,iVBORw0KGgoAAAANSUhEUgAAAHMAAABzCAYAAACrQz3mAAAABHNCSVQICAgIfAhkiAAAAAlwSFlzAAALEgAACxIB0t1+/AAAAVFJREFUeJzt27EJAzEQAEHbOFX/haoAfwUO/P8ga5nJBQfLRYeec87Pg4TX6gG4j5ghYoaIGSJmiJghYoaIGSJmiJghYoaIGSJmiJghYoaIGSJmiJghYoaIGSJmiJghYoaIGSJmiJghYoa8Vw/wizHG6bdzzhsn+U82M0TMEDFDxAwRM0TMEDFDxAwRM0TMEDFDxAwRM0TMkK1OYFfOWGfPZzudzmxmiJghYoaIGSJmiJghYoaIGSJmiJghYoaIGSJmyJKryZUPQHxnM0PEDBEzRMwQMUPEDBEzRMwQMUPEDBEzRMwQMUPEDFlyAtvpM85ObGaImCFihogZImaImCFihogZImaImCFihogZImaImCFihogZImaImCFihogZImaImCFihogZImaImCFihogZImaImCFihogZImaImCFihogZImaImCFihogZImaImCEHNjwQn58lhccAAAAASUVORK5CYII=\"\n",
       "  frames[10] = \"data:image/png;base64,iVBORw0KGgoAAAANSUhEUgAAAHMAAABzCAYAAACrQz3mAAAABHNCSVQICAgIfAhkiAAAAAlwSFlzAAALEgAACxIB0t1+/AAAAU1JREFUeJzt28EJwzAUBcEk5Kr+C1UBcQ9KiNB65m5sWP7p4eec8/Mg4bX7A/gdMUPEDBEzRMwQMUPEDBEzRMwQMUPEDBEzRMwQMUPEDBEzRMwQMUPEDBEzRMwQMUPEDBEzRMwQMUPEDBEzRMwQMUPEDBEzRMwQMUPEDBEzRMwQMUPEDBEzRMwQMUPeO146xlh6bs551Dv/zWWGiBkiZoiYIWKGiBkiZoiYIWKGiBkiZoiYIWKGbFlNVpeI1eXjLlxmiJghYoaIGSJmiJghYoaIGSJmiJghYoaIGSJmiJghWyawHU76AWiVywwRM0TMEDFDxAwRM0TMEDFDxAwRM0TMEDFDxAw5ajW5w/LxDZcZImaImCFihogZImaImCFihogZImaImCFihogZImaImCFihogZImaImCFihogZImaImCFihogZImaImCFihlxX/BN44qL76gAAAABJRU5ErkJggg==\"\n",
       "  frames[11] = \"data:image/png;base64,iVBORw0KGgoAAAANSUhEUgAAAHMAAABzCAYAAACrQz3mAAAABHNCSVQICAgIfAhkiAAAAAlwSFlzAAALEgAACxIB0t1+/AAAAU5JREFUeJzt3EEKwkAQAEEVr/n/Q+cB+gMPS3SxU3UPDDRzGrL3mXndSHjsHoDziBkiZoiYIWKGiBkiZoiYIWKGiBkiZoiYIWKGiBkiZoiYIWKGiBkiZoiYIWKGiBkiZoiYIWKGiBkiZoiYIWKGiBkiZoiYIWKGiBkiZoiYIWKGiBkiZoiYIWKGiBny3D3ArxzHsfTdzJw8yffYzBAxQ8QMETNEzBAxQ8QMETNEzBAxQ8QMETNEzJAtV5MrXDB2sJkhYoaIGSJmiJghYoaIGSJmiJghYoaIGSJmiJghYoZsOYGtnrJWT2dXYTNDxAwRM0TMEDFDxAwRM0TMEDFDxAwRM0TMEDFD/uq5NT8OfWYzQ8QMETNEzBAxQ8QMETNEzBAxQ8QMETNEzBAxQ8QMETNEzBAxQ8QMETNEzBAxQ8QMETNEzBAxQ8QMETNEzJA3sEYQn9F1j1QAAAAASUVORK5CYII=\"\n",
       "  frames[12] = \"data:image/png;base64,iVBORw0KGgoAAAANSUhEUgAAAHMAAABzCAYAAACrQz3mAAAABHNCSVQICAgIfAhkiAAAAAlwSFlzAAALEgAACxIB0t1+/AAAAVBJREFUeJzt2bENAjEUBUFApO6/UBcANXB3wniZyS1ZWv3o3eecrxsJj9Uf4DpihogZImaImCFihogZImaImCFihogZImaImCFihogZImaImCFihogZImaImCFihogZImaImCFihogZImaImCFihogZImaImCFihogZImaImCFihogZImaImCFihjxXf+ATY4zDb+ecF/7kN7nMEDFDxAwRM0TMEDFDxAwRM0TMEDFDxAwRM0TMkK1WkzPLx5nF5ahvLzUuM0TMEDFDxAwRM0TMEDFDxAwRM0TMEDFDxAwRM0TMkK0msH+Ysc5wmSFihogZImaImCFihogZImaImCFihogZImaImCFbrSY7LRgruMwQMUPEDBEzRMwQMUPEDBEzRMwQMUPEDBEzRMwQMUPEDBEzRMwQMUPEDBEzRMwQMUPEDBEzRMwQMUPEDBEz5A32ehN4TnQySwAAAABJRU5ErkJggg==\"\n",
       "  frames[13] = \"data:image/png;base64,iVBORw0KGgoAAAANSUhEUgAAAHMAAABzCAYAAACrQz3mAAAABHNCSVQICAgIfAhkiAAAAAlwSFlzAAALEgAACxIB0t1+/AAAAVFJREFUeJzt3MENwjAQAEFAfN1/oS4AenACVjYz/ygnre51kp9zzs+DhNfuATiPmCFihogZImaImCFihogZImaImCFihogZImaImCFihogZImaImCFihogZImaImCFihogZImaImCFihogZImaImCFihogZImaImCFihogZImaImCFihogZImaImCHv3QP8yxhj6bs558mT/I7NDBEzRMwQMUPEDBEzRMwQMUPEDBEzRMwQMUPEDLnN1WT1+rF6bTnyz1U2M0TMEDFDxAwRM0TMEDFDxAwRM0TMEDFDxAwRM0TMkEudwI6co+7AZoaIGSJmiJghYoaIGSJmiJghYoaIGSJmiJghYoZc6mpypafPdrCZIWKGiBkiZoiYIWKGiBkiZoiYIWKGiBkiZoiYIWKGiBkiZoiYIWKGiBkiZoiYIWKGiBkiZoiYIWKGiBkiZsgXRm8Qn2rKysYAAAAASUVORK5CYII=\"\n",
       "  frames[14] = \"data:image/png;base64,iVBORw0KGgoAAAANSUhEUgAAAHMAAABzCAYAAACrQz3mAAAABHNCSVQICAgIfAhkiAAAAAlwSFlzAAALEgAACxIB0t1+/AAAAU9JREFUeJzt28ENwjAUBUFAXN1/oS4AasBGRF5m7lEirf7pKfc55+tGwuPqD+B7xAwRM0TMEDFDxAwRM0TMEDFDxAwRM0TMEDFDxAwRM0TMEDFDxAwRM0TMEDFDxAwRM0TMEDFDxAwRM0TMEDFDxAwRM0TMEDFDxAwRM0TMEDFDxAwRM0TMEDFDxAwRM0TMEDFDxAwRM0TMEDFDxAwRM0TMEDFDxAwRM0TMkOfVH/CJMcbys3POY965ymWGiBkiZoiYIWKGiBkiZoiYIWKGiBkiZoiYIWKGiBly1AS2MyntTFmncJkhYoaIGSJmiJghYoaIGSJmiJghYoaIGSJmiJghR60mV/j1zz87XGaImCFihogZImaImCFihogZImaImCFihogZImaImCF/M4GdNGWtcpkhYoaIGSJmiJghYoaIGSJmiJghYoaIGSJmiJghbxOAE3g8rQVnAAAAAElFTkSuQmCC\"\n",
       "  frames[15] = \"data:image/png;base64,iVBORw0KGgoAAAANSUhEUgAAAHMAAABzCAYAAACrQz3mAAAABHNCSVQICAgIfAhkiAAAAAlwSFlzAAALEgAACxIB0t1+/AAAAUxJREFUeJzt28EJwzAUBcEk5Kr+C1UBcQmByKBombkbBMs/Pfycc34eJLx2P4D7iBkiZoiYIWKGiBkiZoiYIWKGiBkiZoiYIWKGiBkiZoiYIWKGiBkiZoiYIWKGiBkiZoiYIWKGiBkiZoiYIWKGiBkiZoiYIWKGiBkiZoiYIWKGiBkiZoiYIWKGiBkiZoiYIWKGiBkiZoiYIWKGiBkiZoiYIWKGiBkiZoiYIe/dD/h3Y4yfv51z3viS71xmiJghYoaIGSJmiJghYoaIGSJmiJghYoaIGSJmiJghR01gJ81RO7jMEDFDxAwRM0TMEDFDxAwRM0TMEDFDxAwRM0TMkKNWk5XlY2VxOYXLDBEzRMwQMUPEDBEzRMwQMUPEDBEzRMwQMUPEDBEz5KgJbIUfhziKmCFihogZImaImCFihogZImaImCFihogZImbIBdpAEJ/C1SiSAAAAAElFTkSuQmCC\"\n",
       "  frames[16] = \"data:image/png;base64,iVBORw0KGgoAAAANSUhEUgAAAHMAAABzCAYAAACrQz3mAAAABHNCSVQICAgIfAhkiAAAAAlwSFlzAAALEgAACxIB0t1+/AAAAVBJREFUeJzt3MEJwzAQAMEk5Kv+C1UBcQ+KE+PVzF9wsNzrQM855+dBwuvqATiPmCFihogZImaImCFihogZImaImCFihogZImaImCFihogZImaImCFihogZImaImCFihogZImaImCFihogZImaImCFihogZImaImCFihogZImaImCFihogZImaImCFihogZImaImCFihogZImaImCFihogZImaImCFihogZ8r56gH8ZYyy9m3OePMnv2MwQMUPEDBEzRMwQMUPEDBEzRMwQMUPEDBEzRMwQMUO2OYGtnrJWT2ffWJ3VZoaIGSJmiJghYoaIGSJmiJghYoaIGSJmiJghYoZsczW50/Vjlc0METNEzBAxQ8QMETNEzBAxQ8QMETNEzBAxQ8QMETNkmxPYnf7AW2UzQ8QMETNEzBAxQ8QMETNEzBAxQ8QMETNEzBAxQw6QUhN4qw3HUQAAAABJRU5ErkJggg==\"\n",
       "  frames[17] = \"data:image/png;base64,iVBORw0KGgoAAAANSUhEUgAAAHMAAABzCAYAAACrQz3mAAAABHNCSVQICAgIfAhkiAAAAAlwSFlzAAALEgAACxIB0t1+/AAAAVFJREFUeJzt3EEKg0AQAMEk5Lr/f+g+IHmCsEqMbdVdHGjmNOhzzvl5kPA6ewCOI2aImCFihogZImaImCFihogZImaImCFihogZImaImCFihogZImaImCFihogZImaImCFihogZImaImCFihogZImaImCFihogZImaImCFihogZImaImCFihogZImaImCFihogZImaImCFihogZImaImCFihogZImaImCFihrzPHuDfjTGWn51zHjjJNpsZImaImCFihogZImaImCFihogZImaImCFihogZImaIE9iGPWes1fPZ6jttZoiYIWKGiBkiZoiYIWKGiBkiZoiYIWKGiBkiZshtriZ7PgC6CpsZImaImCFihogZImaImCFihogZImaImCFihogZImbIbU5gv/6P3RlsZoiYIWKGiBkiZoiYIWKGiBkiZoiYIWKGiBkiZsgXWiEQn1N8kyEAAAAASUVORK5CYII=\"\n",
       "  frames[18] = \"data:image/png;base64,iVBORw0KGgoAAAANSUhEUgAAAHMAAABzCAYAAACrQz3mAAAABHNCSVQICAgIfAhkiAAAAAlwSFlzAAALEgAACxIB0t1+/AAAAUdJREFUeJzt28EJQjEQQEEVr+m/0C1Ae4hi8P2Ze0jgsacl95l53Uh4nH4A3yNmiJghYoaIGSJmiJghYoaIGSJmiJghYoaIGSJmiJghYoaIGSJmiJghYoaIGSJmiJghYoaIGSJmiJghYoaIGSJmiJghYoaIGSJmiJghYoaIGSJmiJghYoaIGSJmiJghYoaIGSJmiJghYoaIGSJmiJghYoaIGSJmiJghYoaIGSJmiJghYoaIGSJmiJghYoaIGSJmiJghYoaIGSJmiJghz9MP+JW11ta5mfmbO01miJghYoaIGSJmiJghYoaIGSJmiJghYoaIGSJmyGW2JrubiN3NxwkmM0TMEDFDxAwRM0TMEDFDxAwRM0TMEDFDxAwRM0TMkMuswE745NPRDpMZImaImCFihogZImaImCFihogZImaImCFihogZ8gascRCdt/rxQQAAAABJRU5ErkJggg==\"\n",
       "  frames[19] = \"data:image/png;base64,iVBORw0KGgoAAAANSUhEUgAAAHMAAABzCAYAAACrQz3mAAAABHNCSVQICAgIfAhkiAAAAAlwSFlzAAALEgAACxIB0t1+/AAAAURJREFUeJzt2cEJAzEQBEHb+Kv8A90A7BzEcYK6rr9A0Oxr3jPze4XwOf2BXKeYkGJCigkpJqSYkGJCigkpJqSYkGJCigkpJqSYkGJCigkpJqSYkGJCigkpJqSYkGJCigkpJqSYkGJCigkpJqSYkGJCigkpJqSYkGJCigkpJqSYkGJCigkpJqSYkGJCigkpJqSYkGJCigkpJqSYkGJCigkpJqSYkGJCigkpJqSYkGJCigkpJqSYkGJCigkpJqSYkGJCigkpJqSYkGJCvqc/IFtrbb2bma13XSakmJBiQooJKSakmJBiQooJKSakmJBiQooJKSbkMavJ3QvGCV0mpJiQYkKKCSkmpJiQYkKKCSkmpJiQYkKKCSkmpJiQx0xgu1PW7nR2QpcJKSakmJBiQooJKSakmJBiQooJKSakmJBiQooJ+QMOOQ3EFjg5aAAAAABJRU5ErkJggg==\"\n",
       "  frames[20] = \"data:image/png;base64,iVBORw0KGgoAAAANSUhEUgAAAHMAAABzCAYAAACrQz3mAAAABHNCSVQICAgIfAhkiAAAAAlwSFlzAAALEgAACxIB0t1+/AAAAUpJREFUeJzt2cEJwzAUBUEn5Kr+C1UBcQkC2cRhmbkLBMs/vdec83uQ8H76A9xHzBAxQ8QMETNEzBAxQ8QMETNEzBAxQ8QMETNEzBAxQ8QMETNEzBAxQ8QMETNEzBAxQ8QMETNEzBAxQ8QMETNEzBAxQ8QMETNEzBAxQ8QMETNEzBAxQ8QMETNEzBAxQ8QMETNEzBAxQ8QMETNEzBAxQ8QMETNEzBAxQ8QMETNEzBAxQ8QMETNEzBAxQ8QMETNEzBAxQ8QMETNEzBAxQz5Pf+DfjTG23845b/zJmssMETNEzBAxQ8QMETNEzBAxQ8QMETNEzBAxQ8QMsZosXFk+riwuO1xmiJghYoaIGSJmiJghYoaIGSJmiJghYoaIGSJmiJghJrCFX89Yx7E/u7nMEDFDxAwRM0TMEDFDxAwRM0TMEDFDxAwRM0TMkBO7Pw3E1MBi9gAAAABJRU5ErkJggg==\"\n",
       "  frames[21] = \"data:image/png;base64,iVBORw0KGgoAAAANSUhEUgAAAHMAAABzCAYAAACrQz3mAAAABHNCSVQICAgIfAhkiAAAAAlwSFlzAAALEgAACxIB0t1+/AAAAUNJREFUeJzt2cEJAzEQBEGf8Vf5B7oB+EIwiDOCpuovEDT7mmtmvi8S3qc/wHPEDBEzRMwQMUPEDBEzRMwQMUPEDBEzRMwQMUPEDBEzRMwQMUPEDBEzRMwQMUPEDBEzRMwQMUPEDBEzRMwQMUPEDBEzRMwQMUPEDBEzRMwQMUPEDBEzRMwQMUPEDBEzRMwQMUPEDBEzRMwQMUPEDBEzRMwQMUPEDBEzRMwQMUPEDBEzRMwQMUPEDBEzRMwQMUPEDBEzRMwQMUPEDBEz5HP6A2Vrra13M7P1zmWGiBkiZoiYIWKGiBkiZoiYIWKGiBkiZoiYIWKGWE3+aHf92F1bXGaImCFihogZImaImCFihogZImaImCFihogZImaImCEmsB9256gTXGaImCFihogZImaImCFihogZImaImCFihogZImbIDRSjCuvY6UizAAAAAElFTkSuQmCC\"\n",
       "  frames[22] = \"data:image/png;base64,iVBORw0KGgoAAAANSUhEUgAAAHMAAABzCAYAAACrQz3mAAAABHNCSVQICAgIfAhkiAAAAAlwSFlzAAALEgAACxIB0t1+/AAAAVBJREFUeJzt2cEJwzAQAEEn+Kv+C70CkhICConNMvM/JFjudY+ZeR38xFpra25mtuaeW1PckpghYoaIGSJmiJghYoaIGSJmiJghYoaIGSJmyHn1B8p2rx+7bGaImCFihogZImaImCFihogZImaImCFihogZImaImCFihogZImaImCFihogZImaImCFihogZImaImCFihogZImaImCFihogZImaImCFihogZImaImCFihogZImaImCFihogZImaImCFihogZImaImCFihogZImaImCFihogZImaImCFihogZImaImCFihogZImaImCFihogZImaImCFihpxXf+Du1lrbszPz1zdtZoiYIWKGiBkiZoiYIWKGiBkiZoiYIWKGiBkiZoiYIU5gH+yesY7ju/PZDpsZImaImCFihogZImaImCFihogZImaImCFihogZ8gZwTxDEq903qQAAAABJRU5ErkJggg==\"\n",
       "  frames[23] = \"data:image/png;base64,iVBORw0KGgoAAAANSUhEUgAAAHMAAABzCAYAAACrQz3mAAAABHNCSVQICAgIfAhkiAAAAAlwSFlzAAALEgAACxIB0t1+/AAAAUxJREFUeJzt2cEJAzEMAEEn3Nf9F6oCkgLyODiSCywzfyPBopcfM/Na/MTe+9Z5z1un8VNihogZImaImCFihogZImaImCFihogZImaImCHHvxcom5lb57nMEDFDxAwRM0TMEDFDxAwRM0TMEDFDxAwRM0TMEDFDxAwRM0TMEDFDxAwRM0TMEDFDxAwRM0TMEDFDxAwRM0TMEDFDxAwRM0TMEDFDxAwRM0TMEDFDxAwRM0TMEDFDxAwRM0TMEDFDxAwRM0TMEDFDxAwRM0TMEDFDxAwRM0TMEDFDxAwRM0TMEDFDxAwRM0TMEDFDxAwRM0TMEDFDxAw5/r0An/bel965zBAxQ8QMETNEzBAxQ8QMETNEzBAxQ8QMETNEzBAxQ3yBnbj6HbXWWjPzxU3OucwQMUPEDBEzRMwQMUPEDBEzRMwQMUPEDBEzRMyQN9TNCuvI5AnkAAAAAElFTkSuQmCC\"\n",
       "  frames[24] = \"data:image/png;base64,iVBORw0KGgoAAAANSUhEUgAAAHMAAABzCAYAAACrQz3mAAAABHNCSVQICAgIfAhkiAAAAAlwSFlzAAALEgAACxIB0t1+/AAAAU1JREFUeJzt2cEJwzAQAEE7+Kv+C70CkhICAtuwzPyPEyz30jkz34NbrLUe3fd5dBu3EjNEzBAxQ8QMETNEzBAxQ8QMETNEzBAxQ8QMud5+QNnMPLrPZYaIGSJmiJghYoaIGSJmiJghYoaIGSJmiJghYoaIGSJmiJghYoaIGSJmiJghYoaIGSJmiJghYoaIGSJmiJghYoaIGSJmiJghYoaIGSJmiJghYoaIGSJmiJghYoaIGSJmiJghYoaIGSJmiJghYoaIGSJmiJghYoaIGSJmiJghYoaIGSJmiJghYoaIGSJmiJghYoaIGSJmiJghYoaIGSJmyPX2A8rWWltzM7M15zJDxAwRM0TMEDFDxAwRM0TMEDFDxAwRM0TMEDFDxAw5j+P47gzuftPw3+7XmcsMETNEzBAxQ8QMETNEzBAxQ8QMETNEzBAxQ8QM+QEUpw7AKNRA6QAAAABJRU5ErkJggg==\"\n",
       "  frames[25] = \"data:image/png;base64,iVBORw0KGgoAAAANSUhEUgAAAHMAAABzCAYAAACrQz3mAAAABHNCSVQICAgIfAhkiAAAAAlwSFlzAAALEgAACxIB0t1+/AAAAU5JREFUeJzt2bFtQzEMQEF9w632H5QDOAO4kx07eLnrCRF4YKVrrfVYB2bmZOxf2Xt/9L3bR1/jV4kZImaImCFihogZImaImCFihogZImaImCFihlwzc/Rrwt/jMkPEDBEzRMwQMUPEDBEzRMwQMUPEDBEzRMwQMUPEDBEzRMwQMUPEDBEzRMwQMUPEDBEzRMwQMUPEDBEzRMwQMUPEDBEzRMwQMUPEDBEzRMwQMUPEDBEzRMwQMUPEDBEzRMwQMUPEDBEzRMwQMUPEDBEzRMwQMUPEDBEzRMwQMUPEDBEzRMwQMUPEDBEzRMwQMUPEDBEzRMwQMUPEDBEz5P7tBXi29z6ac5khYoaIGSJmiJghYoaIGSJmiJghYoaIGSJmiJghYoZca63HyeDMvHkVXuUyQ8QMETNEzBAxQ8QMETNEzBAxQ8QMETNEzBAxQ34Ah5YMvJ87fKoAAAAASUVORK5CYII=\"\n",
       "  frames[26] = \"data:image/png;base64,iVBORw0KGgoAAAANSUhEUgAAAHMAAABzCAYAAACrQz3mAAAABHNCSVQICAgIfAhkiAAAAAlwSFlzAAALEgAACxIB0t1+/AAAAU1JREFUeJzt2cEJAzEMAEFfuK/7L9QFJAXkE8RBYJn5C4QXvXyttd5r4JwzGeMHe+/R3OvhPfgjMUPEDBEzRMwQMUPEDBEzRMwQMUPEDBEzRMyQ2+9Hh8sMETNEzBAxQ8QMETNEzBAxQ8QMETNEzBAxQ8QMuf+9AN+mP1kuM0TMEDFDxAwRM0TMEDFDxAwRM0TMEDFDxAwRM0TMEDFDxAwRM0TMEDFDxAwRM0TMEDFDxAwRM0TMEDFDxAwRM0TMEDFDxAwRM0TMEDFDxAwRM0TMEDFDxAwRM0TMEDFDxAwRM0TMEDFDxAwRM0TMEDFDxAwRM0TMEDFDxAwRM0TMEDFDxAwRM0TMEDFDxAwRM0TMEDFDxAwRM0TMEDFDxAy51lrvyeA55+FVevbeo7np27rMEDFDxAwRM0TMEDFDxAwRM0TMEDFDxAwRM0TMkA8uGxFyKygxMQAAAABJRU5ErkJggg==\"\n",
       "  frames[27] = \"data:image/png;base64,iVBORw0KGgoAAAANSUhEUgAAAHMAAABzCAYAAACrQz3mAAAABHNCSVQICAgIfAhkiAAAAAlwSFlzAAALEgAACxIB0t1+/AAAAVBJREFUeJzt20FqAzEQAEGtyXX//9B5gP2HSSBLu+o+INTMSeg657zPwsxsxr7Kfd+rue3dvlZTPJKYIWKGiBkiZoiYIWKGiBkiZoiYIWKGiBkiZsjPfx+gbPv6sX1tsZkhYoaIGSJmiJghYoaIGSJmiJghYoaIGSJmiJgh18ys/prwPDYzRMwQMUPEDBEzRMwQMUPEDBEzRMwQMUPEDBEzRMwQMUPEDBEzRMwQMUPEDBEzRMwQMUPEDBEzRMwQMUPEDBEzRMwQMUPEDBEzRMwQMUPEDBEzRMwQMUPEDBEzRMwQMUPEDBEzRMwQMUPEDBEzRMwQMUPEDBEzRMwQMUPEDBEzRMwQMUPEDBEzRMwQMUPEDBEzRMwQMUPEDBEzRMwQMUPEDLnOOe/N4Mz88VH4LZsZImaImCFihogZImaImCFihogZImaImCFihogZ8gH2eRJudFNZnwAAAABJRU5ErkJggg==\"\n",
       "  frames[28] = \"data:image/png;base64,iVBORw0KGgoAAAANSUhEUgAAAHMAAABzCAYAAACrQz3mAAAABHNCSVQICAgIfAhkiAAAAAlwSFlzAAALEgAACxIB0t1+/AAAAUlJREFUeJzt2zEKwzAQAEE5uNX/H6oHJA9IJ2IbNjP9IcFyldAxxniPm6217j7yL7yevgC/I2aImCFihogZImaImCFihogZImaImCFihogZcu4Oevm4zpxza85mhogZImaImCFihogZImaImCFihogZImaImCFihhxrrdv/mnANmxkiZoiYIWKGiBkiZoiYIWKGiBkiZoiYIWKGiBkiZoiYIWKGiBkiZoiYIWKGiBkiZoiYIWKGiBkiZoiYIWKGiBkiZoiYIWKGiBkiZoiYIWKGiBkiZoiYIWKGiBkiZoiYIWKGiBkiZoiYIWKGiBkiZoiYIWKGiBkiZoiYIWKGiBkiZoiYIWKGiBkiZoiYIWKGiBkiZoiYIWKGiBkiZoiYIWKGnE9fgG9zzq05mxkiZoiYIWKGiBkiZoiYIWKGiBkiZoiYIWKGiBnyAXzTC8A8n0tTAAAAAElFTkSuQmCC\"\n",
       "  frames[29] = \"data:image/png;base64,iVBORw0KGgoAAAANSUhEUgAAAHMAAABzCAYAAACrQz3mAAAABHNCSVQICAgIfAhkiAAAAAlwSFlzAAALEgAACxIB0t1+/AAAAU1JREFUeJzt20FqA0EMAEFtyHX//1A9wH5BLmMbh6bqLhA0Og1z7e5jDtz3fTI2MzO7ezzL336+vQDvI2aImCFihogZImaImCFihogZImaImCFihogZ8vvK6wefcdrEZYaIGSJmiJghYoaIGSJmiJghYoaIGSJmiJghYoZcp39N+H9cZoiYIWKGiBkiZoiYIWKGiBkiZoiYIWKGiBkiZoiYIWKGiBkiZoiYIWKGiBkiZoiYIWKGiBkiZoiYIWKGiBkiZoiYIWKGiBkiZoiYIWKGiBkiZoiYIWKGiBkiZoiYIWKGiBkiZoiYIWKGiBkiZoiYIWKGiBkiZoiYIWKGiBkiZoiYIWKGiBkiZoiYIWKGiBkiZoiYIWKGiBkiZoiYIWKGiBlyzczjZHB337wKr3KZIWKGiBkiZoiYIWKGiBkiZoiYIWKGiBkiZoiYIU+GPQ+8x17NMAAAAABJRU5ErkJggg==\"\n",
       "  frames[30] = \"data:image/png;base64,iVBORw0KGgoAAAANSUhEUgAAAHMAAABzCAYAAACrQz3mAAAABHNCSVQICAgIfAhkiAAAAAlwSFlzAAALEgAACxIB0t1+/AAAAUlJREFUeJzt2cENwjAQAMELyjf9F+oCoAcDAm1m/idZXt3rjrXWczZc17UzNjMza63t2TvY/dvHh9/BD4kZImaImCFihogZImaImCFihogZImaImCFihhwzs3U1eYeryXfYzBAxQ8QMETNEzBAxQ8QMETNEzBAxQ8QMETNEzJBzd9Dl4//YzBAxQ8QMETNEzBAxQ8QMETNEzBAxQ8QMETNEzBAxQ06nrA6bGSJmiJghYoaIGSJmiJghYoaIGSJmiJghYoaIGSJmiJghYoaIGSJmiJghYoaIGSJmiJghYoaIGSJmiJghYoaIGSJmiJghYoaIGSJmiJghYoaIGSJmiJghYoaIGSJmiJghYoaIGSJmiJghYoaIGSJmiJghYoaIGSJmiJghYoaIGSJmiJghYoaIGSJmiJghYoaIGSJmiJghYoaIGSJmiJghL7YMEXKmKdYUAAAAAElFTkSuQmCC\"\n",
       "  frames[31] = \"data:image/png;base64,iVBORw0KGgoAAAANSUhEUgAAAHMAAABzCAYAAACrQz3mAAAABHNCSVQICAgIfAhkiAAAAAlwSFlzAAALEgAACxIB0t1+/AAAAUtJREFUeJzt28EJAzEMAEFduO/1X6gLSAoI+TgJB8vMX2BY9BI+1lrP2XBd187YzMystbZn+exx9wP4HTFDxAwRM0TMEDFDxAwRM0TMEDFDxAwRM0TMkPPuB/Bu9yJlM0PEDBEzRMwQMUPEDBEzRMwQMUPEDBEzRMwQMUOOmdn6a/INf03+w2aGiBkiZoiYIWKGiBkiZoiYIWKGiBkiZoiYIWKGiBlyOkd12MwQMUPEDBEzRMwQMUPEDBEzRMwQMUPEDBEzRMwQMUPEDBEzRMwQMUPEDBEzRMwQMUPEDBEzRMwQMUPEDBEzRMwQMUPEDBEzRMwQMUPEDBEzRMwQMUPEDBEzRMwQMUPEDBEzRMwQMUPEDBEzRMwQMUPEDBEzRMwQMUPEDBEzRMwQMUPEDBEzRMwQMUPEDBEzRMwQMUPEDBEzRMwQMUPEDHkBpR0OmbRbt2cAAAAASUVORK5CYII=\"\n",
       "\n",
       "\n",
       "    /* set a timeout to make sure all the above elements are created before\n",
       "       the object is initialized. */\n",
       "    setTimeout(function() {\n",
       "        animOZINSDULHLNNNWCM = new Animation(frames, img_id, slider_id, 100, loop_select_id);\n",
       "    }, 0);\n",
       "  })()\n",
       "</script>\n"
      ],
      "text/plain": [
       "<IPython.core.display.HTML object>"
      ]
     },
     "execution_count": 9,
     "metadata": {},
     "output_type": "execute_result"
    }
   ],
   "source": [
    "glider = [[1, 0, 0],\n",
    "          [0, 1, 1],\n",
    "          [1, 1, 0]]\n",
    "X = np.zeros((8, 8))\n",
    "X[:3, :3] = glider\n",
    "life_animation(X, dpi=5, frames=32, interval=100) "
   ]
  },
  {
   "cell_type": "markdown",
   "metadata": {
    "slideshow": {
     "slide_type": "slide"
    }
   },
   "source": [
    "### Quest for special configurations\n",
    "\n",
    "* oscillators\n",
    "* static configuration"
   ]
  },
  {
   "cell_type": "code",
   "execution_count": 14,
   "metadata": {
    "collapsed": false,
    "slideshow": {
     "slide_type": "fragment"
    }
   },
   "outputs": [],
   "source": [
    "#%run talktools.py"
   ]
  },
  {
   "cell_type": "code",
   "execution_count": null,
   "metadata": {
    "collapsed": true
   },
   "outputs": [],
   "source": []
  },
  {
   "cell_type": "code",
   "execution_count": null,
   "metadata": {
    "collapsed": false,
    "slideshow": {
     "slide_type": "skip"
    }
   },
   "outputs": [],
   "source": [
    "#pip install git+https://github.com/jakevdp/JSAnimation.git@master"
   ]
  },
  {
   "cell_type": "code",
   "execution_count": null,
   "metadata": {
    "collapsed": true
   },
   "outputs": [],
   "source": []
  }
 ],
 "metadata": {
  "celltoolbar": "Slideshow",
  "kernelspec": {
   "display_name": "Python 3",
   "language": "python",
   "name": "python3"
  },
  "language_info": {
   "codemirror_mode": {
    "name": "ipython",
    "version": 3
   },
   "file_extension": ".py",
   "mimetype": "text/x-python",
   "name": "python",
   "nbconvert_exporter": "python",
   "pygments_lexer": "ipython3",
   "version": "3.5.0"
  }
 },
 "nbformat": 4,
 "nbformat_minor": 0
}
