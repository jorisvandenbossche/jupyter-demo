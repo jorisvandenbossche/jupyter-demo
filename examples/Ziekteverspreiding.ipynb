{
 "cells": [
  {
   "cell_type": "markdown",
   "metadata": {},
   "source": [
    "# Wiskunde aan het werk: een simulatie-gebaseerde aanpak"
   ]
  },
  {
   "cell_type": "markdown",
   "metadata": {},
   "source": [
    "### Ziekteverspreiding"
   ]
  },
  {
   "cell_type": "markdown",
   "metadata": {},
   "source": [
    "#### Inladen nodige pakketten"
   ]
  },
  {
   "cell_type": "code",
   "execution_count": 4,
   "metadata": {
    "collapsed": true
   },
   "outputs": [],
   "source": [
    "import scipy.integrate as spi\n",
    "import numpy as np\n",
    "import pylab as pl\n",
    "import matplotlib.pyplot as plt\n",
    "%matplotlib inline"
   ]
  },
  {
   "cell_type": "markdown",
   "metadata": {},
   "source": [
    "## SIR-model"
   ]
  },
  {
   "cell_type": "markdown",
   "metadata": {},
   "source": [
    "#### Implementatie van de modelvergelijkingen (cfr. Opdracht 2.1.4)"
   ]
  },
  {
   "cell_type": "code",
   "execution_count": 12,
   "metadata": {
    "collapsed": true
   },
   "outputs": [],
   "source": [
    "def SIR(INP,t):  \n",
    "\t'''The main set of equations'''\n",
    "\tY=np.zeros((2))\n",
    "\tS = INP[0]\n",
    "\tI = INP[1]\n",
    "\tY[0] = - beta * S * I\n",
    "\tY[1] = beta * S * I - gamma * I\n",
    "\treturn Y  "
   ]
  },
  {
   "cell_type": "markdown",
   "metadata": {},
   "source": [
    "#### Definitie modelparameters en initiële conditie"
   ]
  },
  {
   "cell_type": "code",
   "execution_count": 13,
   "metadata": {
    "collapsed": true
   },
   "outputs": [],
   "source": [
    "beta=0.25\n",
    "gamma=0.1\n",
    "maxT=150\n",
    "I0=0.01\n",
    "S0=1-I0"
   ]
  },
  {
   "cell_type": "markdown",
   "metadata": {},
   "source": [
    "####  Oplossing stelsel differentiaalvergelijkingen"
   ]
  },
  {
   "cell_type": "code",
   "execution_count": 14,
   "metadata": {
    "collapsed": false
   },
   "outputs": [],
   "source": [
    "t_start = 0.0; t_end = maxT; t_inc = 1.0\n",
    "t_range = np.arange(t_start, t_end+t_inc, t_inc)\n",
    "RES_SIR = spi.odeint(SIR,(S0, I0),t_range)"
   ]
  },
  {
   "cell_type": "markdown",
   "metadata": {},
   "source": [
    "#### Plotten van de oplossingen"
   ]
  },
  {
   "cell_type": "code",
   "execution_count": 15,
   "metadata": {
    "collapsed": false
   },
   "outputs": [
    {
     "data": {
      "image/png": "[encoded data removed]",
      "text/plain": [
       "<matplotlib.figure.Figure at 0x4563438>"
      ]
     },
     "metadata": {},
     "output_type": "display_data"
    }
   ],
   "source": [
    "pl.plot(RES_SIR[:,0], '-g', label='Vatbaar')\n",
    "pl.plot(RES_SIR[:,1], '-r', label='Besmet')\n",
    "pl.plot(1-RES_SIR[:,0]-RES_SIR[:,1], '-k', label='Hersteld')\n",
    "pl.legend(loc=0)\n",
    "pl.title('SIR-model')\n",
    "pl.xlabel('Tijd (dagen)')\n",
    "pl.ylabel('Relatief aantal (-)')\n",
    "pl.show()"
   ]
  },
  {
   "cell_type": "markdown",
   "metadata": {},
   "source": [
    "#### Simulatieresultaten op dag T"
   ]
  },
  {
   "cell_type": "code",
   "execution_count": 59,
   "metadata": {
    "collapsed": false
   },
   "outputs": [
    {
     "data": {
      "text/plain": [
       "array([ 0.71115611,  0.15651869])"
      ]
     },
     "execution_count": 59,
     "metadata": {},
     "output_type": "execute_result"
    }
   ],
   "source": [
    "T=21\n",
    "RES_SIR[T+1,:]"
   ]
  },
  {
   "cell_type": "markdown",
   "metadata": {},
   "source": [
    "## SIR-model met vaccinaties"
   ]
  },
  {
   "cell_type": "markdown",
   "metadata": {},
   "source": [
    "#### Implementatie van de modelvergelijkingen (cfr. Opdracht 2.3.2)"
   ]
  },
  {
   "cell_type": "code",
   "execution_count": 16,
   "metadata": {
    "collapsed": true
   },
   "outputs": [],
   "source": [
    "def SIRV(INP,t):  \n",
    "\t'''The main set of equations'''\n",
    "\tY=np.zeros((2))\n",
    "\tS = INP[0]\n",
    "\tI = INP[1]\n",
    "\tY[0] = - beta *S * I - alpha*S\n",
    "\tY[1] = beta * S * I - gamma * I\n",
    "\treturn Y  "
   ]
  },
  {
   "cell_type": "markdown",
   "metadata": {},
   "source": [
    "#### Definitie modelparameters en initiële conditie"
   ]
  },
  {
   "cell_type": "code",
   "execution_count": 17,
   "metadata": {
    "collapsed": true
   },
   "outputs": [],
   "source": [
    "beta=0.25\n",
    "gamma=0.1\n",
    "alpha=0.01\n",
    "maxT=150\n",
    "I0=0.01\n",
    "S0=1-I0"
   ]
  },
  {
   "cell_type": "markdown",
   "metadata": {},
   "source": [
    "####  Oplossing stelsel differentiaalvergelijkingen"
   ]
  },
  {
   "cell_type": "code",
   "execution_count": 18,
   "metadata": {
    "collapsed": false
   },
   "outputs": [],
   "source": [
    "t_start = 0.0; t_end = maxT; t_inc = 1.0\n",
    "t_range = np.arange(t_start, t_end+t_inc, t_inc)\n",
    "RES_SIRV = spi.odeint(SIRV,(S0, I0),t_range)"
   ]
  },
  {
   "cell_type": "markdown",
   "metadata": {},
   "source": [
    "#### Plotten van de oplossingen"
   ]
  },
  {
   "cell_type": "code",
   "execution_count": 19,
   "metadata": {
    "collapsed": false
   },
   "outputs": [
    {
     "data": {
      "image/png": "[encoded data removed]",
      "text/plain": [
       "<matplotlib.figure.Figure at 0x76dbd30>"
      ]
     },
     "metadata": {},
     "output_type": "display_data"
    }
   ],
   "source": [
    "pl.plot(RES_SIRV[:,0], '-g', label='Vatbaar')\n",
    "pl.plot(RES_SIRV[:,1], '-r', label='Besmet')\n",
    "pl.plot(1-RES_SIRV[:,0]-RES_SIRV[:,1], '-k', label='Hersteld')\n",
    "pl.legend(loc=0)\n",
    "pl.title('SIRV-model')\n",
    "pl.xlabel('Tijd (dagen)')\n",
    "pl.ylabel('Relatief aantal (-)')\n",
    "pl.show()"
   ]
  },
  {
   "cell_type": "markdown",
   "metadata": {},
   "source": [
    "#### Simulatieresultaten op dag T"
   ]
  },
  {
   "cell_type": "code",
   "execution_count": 58,
   "metadata": {
    "collapsed": false
   },
   "outputs": [
    {
     "data": {
      "text/plain": [
       "array([ 0.61456861,  0.10187225])"
      ]
     },
     "execution_count": 58,
     "metadata": {},
     "output_type": "execute_result"
    }
   ],
   "source": [
    "T=21\n",
    "RES_SIRV[T+1,:]"
   ]
  },
  {
   "cell_type": "markdown",
   "metadata": {},
   "source": [
    "## SEIR-model"
   ]
  },
  {
   "cell_type": "markdown",
   "metadata": {},
   "source": [
    "#### Implementatie van de modelvergelijkingen (cfr. Opdracht 2.4.2)"
   ]
  },
  {
   "cell_type": "code",
   "execution_count": 20,
   "metadata": {
    "collapsed": true
   },
   "outputs": [],
   "source": [
    "def SEIR(INP,t):  \n",
    "\t'''The main set of equations'''\n",
    "\tY=np.zeros((3))\n",
    "\tS = INP[0]\n",
    "\tE = INP[1]\n",
    "\tI = INP[2]\n",
    "\tY[0] = - beta * S * I - alpha*S\n",
    "\tY[1] =  beta * S * I - kappa*E\n",
    "\tY[2] = kappa*E - gamma * I\n",
    "\treturn Y  "
   ]
  },
  {
   "cell_type": "markdown",
   "metadata": {},
   "source": [
    "#### Definitie modelparameters en initiële conditie"
   ]
  },
  {
   "cell_type": "code",
   "execution_count": 21,
   "metadata": {
    "collapsed": true
   },
   "outputs": [],
   "source": [
    "beta=0.25\n",
    "gamma=0.1\n",
    "alpha=0.01\n",
    "kappa=0.5\n",
    "maxT=150\n",
    "E0=0.01\n",
    "S0=1-E0\n",
    "I0=0"
   ]
  },
  {
   "cell_type": "markdown",
   "metadata": {},
   "source": [
    "####  Oplossing stelsel differentiaalvergelijkingen"
   ]
  },
  {
   "cell_type": "code",
   "execution_count": 22,
   "metadata": {
    "collapsed": false
   },
   "outputs": [],
   "source": [
    "t_start = 0.0; t_end = maxT; t_inc = 1.0\n",
    "t_range = np.arange(t_start, t_end+t_inc, t_inc)\n",
    "RES_SEIR = spi.odeint(SEIR,(S0, E0, I0),t_range)"
   ]
  },
  {
   "cell_type": "markdown",
   "metadata": {},
   "source": [
    "#### Plotten van de oplossingen"
   ]
  },
  {
   "cell_type": "code",
   "execution_count": 23,
   "metadata": {
    "collapsed": false
   },
   "outputs": [
    {
     "data": {
      "image/png": "[encoded data removed]",
      "text/plain": [
       "<matplotlib.figure.Figure at 0x7767240>"
      ]
     },
     "metadata": {},
     "output_type": "display_data"
    }
   ],
   "source": [
    "pl.plot(RES_SEIR[:,0], '-g', label='Vatbaar')\n",
    "pl.plot(RES_SEIR[:,1], '-r', label='Besmet')\n",
    "pl.plot(RES_SEIR[:,2], '-r', label='Besmettelijk')\n",
    "pl.plot(1-RES_SEIR[:,0]-RES_SEIR[:,1]--RES_SEIR[:,2], '-k', label='Hersteld')\n",
    "pl.legend(loc=0)\n",
    "pl.title('SEIR-model')\n",
    "pl.xlabel('Tijd (dagen)')\n",
    "pl.ylabel('Relatief aantal (-)')\n",
    "pl.show()"
   ]
  },
  {
   "cell_type": "markdown",
   "metadata": {},
   "source": [
    "#### Simulatieresultaten op dag T"
   ]
  },
  {
   "cell_type": "code",
   "execution_count": 58,
   "metadata": {
    "collapsed": false
   },
   "outputs": [
    {
     "data": {
      "text/plain": [
       "array([ 0.61456861,  0.10187225])"
      ]
     },
     "execution_count": 58,
     "metadata": {},
     "output_type": "execute_result"
    }
   ],
   "source": [
    "T=21\n",
    "RES_SEIR[T+1,:]"
   ]
  }
 ],
 "metadata": {
  "kernelspec": {
   "display_name": "Python 3",
   "language": "python",
   "name": "python3"
  },
  "language_info": {
   "codemirror_mode": {
    "name": "ipython",
    "version": 3
   },
   "file_extension": ".py",
   "mimetype": "text/x-python",
   "name": "python",
   "nbconvert_exporter": "python",
   "pygments_lexer": "ipython3",
   "version": "3.4.1"
  }
 },
 "nbformat": 4,
 "nbformat_minor": 0
}
