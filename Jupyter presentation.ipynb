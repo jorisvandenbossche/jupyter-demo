{
 "cells": [
  {
   "cell_type": "markdown",
   "metadata": {
    "slideshow": {
     "slide_type": "slide"
    }
   },
   "source": [
    "<CENTER>\n",
    "  <header>\n",
    "    <img src=\"images/jupyter.svg\" style=\"height: 400px\" />\n",
    "    <h3>November 30, 2015</h3>\n",
    "    <p></p>\n",
    "    <h3>Joris Van den Bossche, Stijn Van Hoey, Michiel Stock</h3>\n",
    "    <p></p>\n",
    "Source: <a href=\"https://github.ugent.be/bw10/jupyter-demo\">https://github.ugent.be/bw10/jupyter-demo</a>\n",
    "  </header>\n",
    "</CENTER>"
   ]
  },
  {
   "cell_type": "markdown",
   "metadata": {
    "slideshow": {
     "slide_type": "slide"
    }
   },
   "source": [
    "# What is Jupyter?"
   ]
  },
  {
   "cell_type": "markdown",
   "metadata": {
    "slideshow": {
     "slide_type": "fragment"
    }
   },
   "source": [
    "Open source, interactive data science and scientific computing platform across over 40 programming languages (Python, Julia, R and many more).\n"
   ]
  },
  {
   "cell_type": "markdown",
   "metadata": {
    "slideshow": {
     "slide_type": "fragment"
    }
   },
   "source": [
    "* A web based notebook"
   ]
  },
  {
   "cell_type": "markdown",
   "metadata": {
    "slideshow": {
     "slide_type": "fragment"
    }
   },
   "source": [
    "* An ecosystem of tools to run, share, communicate, present, .. the content of the computable content"
   ]
  },
  {
   "cell_type": "markdown",
   "metadata": {
    "slideshow": {
     "slide_type": "slide"
    }
   },
   "source": [
    "# The Jupyter Notebook"
   ]
  },
  {
   "cell_type": "markdown",
   "metadata": {
    "slideshow": {
     "slide_type": "fragment"
    }
   },
   "source": [
    "* web application\n",
    "* combine live code with explanatory next, equations, images, visualizations and HTML/JavaScript widgets"
   ]
  },
  {
   "cell_type": "markdown",
   "metadata": {
    "slideshow": {
     "slide_type": "fragment"
    }
   },
   "source": [
    "-> Showtime: [Intro to the Notebook](examples/Intro to the Notebook.ipynb)"
   ]
  },
  {
   "cell_type": "markdown",
   "metadata": {
    "slideshow": {
     "slide_type": "slide"
    }
   },
   "source": [
    "# Jupyter in education"
   ]
  },
  {
   "cell_type": "markdown",
   "metadata": {
    "slideshow": {
     "slide_type": "subslide"
    }
   },
   "source": [
    "Already used at BW10:\n",
    "\n",
    "* BOT\n",
    "* python intro for master/bachelor thesis students\n",
    "* ..."
   ]
  },
  {
   "cell_type": "markdown",
   "metadata": {
    "slideshow": {
     "slide_type": "fragment"
    }
   },
   "source": [
    "It can be used for:\n",
    "\n",
    "* teaching material\n",
    "* text book\n",
    "* grading"
   ]
  },
  {
   "cell_type": "markdown",
   "metadata": {},
   "source": [
    "[link naar notebook Stijn]"
   ]
  },
  {
   "cell_type": "markdown",
   "metadata": {
    "collapsed": true,
    "slideshow": {
     "slide_type": "subslide"
    }
   },
   "source": [
    "## Notebooks as text books"
   ]
  },
  {
   "cell_type": "markdown",
   "metadata": {},
   "source": [
    "[link naar notebook Michiel - optimalizatie cursus]"
   ]
  },
  {
   "cell_type": "markdown",
   "metadata": {},
   "source": [
    "* [12 Steps to Navier-Stokes](https://github.com/barbagroup/CFDPython) (Lorena Barba)\n",
    "* [Intro to Applied Bioinformatics](https://github.com/gregcaporaso/An-Introduction-To-Applied-Bioinformatics) (Greg Caporaso)\n",
    "* [Chemical Engineering Analysis](http://jckantor.github.io/CBE20255/) (Jeffrey Kantor)\n",
    "* and many more!"
   ]
  },
  {
   "cell_type": "markdown",
   "metadata": {
    "slideshow": {
     "slide_type": "slide"
    }
   },
   "source": [
    "![](http://jupyter.org/assets/hublogo.svg)"
   ]
  },
  {
   "cell_type": "markdown",
   "metadata": {
    "slideshow": {
     "slide_type": "subslide"
    }
   },
   "source": [
    "# JupyterHub\n",
    "\n",
    "A hosted Jupyter environment:\n",
    "\n",
    "- https://try.jupyter.org/\n",
    "    \n",
    "- **Snake**: https://snake.ugent.be (available for all university personnel/students)\n",
    "  - To use this, you first have to activate a helios account: https://helpdesk.ugent.be/account/helios.php. Once activated, you can use your UGent CAS account to log in.\n",
    "\n",
    "- **Eraser**:  https://eraser1.ugent.be:8000/ (only for Biomath people)\n",
    "  - Log in with your eraser-account. This runs the notebooks on the eraser cluster"
   ]
  }
 ],
 "metadata": {
  "celltoolbar": "Slideshow",
  "kernelspec": {
   "display_name": "Python 2",
   "language": "python",
   "name": "python2"
  },
  "language_info": {
   "codemirror_mode": {
    "name": "ipython",
    "version": 2
   },
   "file_extension": ".py",
   "mimetype": "text/x-python",
   "name": "python",
   "nbconvert_exporter": "python",
   "pygments_lexer": "ipython2",
   "version": "2.7.10"
  }
 },
 "nbformat": 4,
 "nbformat_minor": 0
}
