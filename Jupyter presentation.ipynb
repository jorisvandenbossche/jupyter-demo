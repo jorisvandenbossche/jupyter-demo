{
 "cells": [
  {
   "cell_type": "markdown",
   "metadata": {
    "slideshow": {
     "slide_type": "slide"
    }
   },
   "source": [
    "<CENTER>\n",
    "  <header>\n",
    "    <img src=\"images/jupyter.svg\" style=\"height: 400px\" />\n",
    "    <h3>November 30, 2015</h3>\n",
    "    <p></p>\n",
    "    <h3>Joris Van den Bossche, Stijn Van Hoey, Michiel Stock</h3>\n",
    "    <p></p>\n",
    "Source: <a href=\"https://github.ugent.be/bw10/jupyter-demo\">https://github.ugent.be/bw10/jupyter-demo</a>\n",
    "  </header>\n",
    "</CENTER>"
   ]
  },
  {
   "cell_type": "markdown",
   "metadata": {
    "slideshow": {
     "slide_type": "slide"
    }
   },
   "source": [
    "# The Jupyter notebook"
   ]
  },
  {
   "cell_type": "markdown",
   "metadata": {
    "slideshow": {
     "slide_type": "fragment"
    }
   },
   "source": [
    "* web application\n",
    "* combine live code, equations, visualizations and explanatory text\n"
   ]
  },
  {
   "cell_type": "markdown",
   "metadata": {
    "slideshow": {
     "slide_type": "fragment"
    }
   },
   "source": [
    "-> Showtime: [Intro to the Notebook](examples/Intro to the Notebook.ipynb)"
   ]
  },
  {
   "cell_type": "markdown",
   "metadata": {
    "slideshow": {
     "slide_type": "slide"
    }
   },
   "source": [
    "![](http://jupyter.org/assets/hublogo.svg)"
   ]
  },
  {
   "cell_type": "markdown",
   "metadata": {
    "slideshow": {
     "slide_type": "subslide"
    }
   },
   "source": [
    "# JupyterHub\n",
    "\n",
    "A hosted Jupyter environment:\n",
    "\n",
    "- https://try.jupyter.org/\n",
    "    \n",
    "- **Snake**: https://snake.ugent.be (available for all university personnel/students)\n",
    "  - To use this, you first have to activate a helios account: https://helpdesk.ugent.be/account/helios.php. Once activated, you can use your UGent CAS account to log in.\n",
    "\n",
    "- **Eraser**:  https://eraser1.ugent.be:8000/ (only for Biomath people)\n",
    "  - Log in with your eraser-account. This runs the notebooks on the eraser cluster"
   ]
  },
  {
   "cell_type": "code",
   "execution_count": null,
   "metadata": {
    "collapsed": true
   },
   "outputs": [],
   "source": []
  },
  {
   "cell_type": "markdown",
   "metadata": {},
   "source": [
    "* [12 Steps to Navier-Stokes](https://github.com/barbagroup/CFDPython) (Lorena Barba)\n",
    "* [Intro to Applied Bioinformatics](https://github.com/gregcaporaso/An-Introduction-To-Applied-Bioinformatics) (Greg Caporaso)\n",
    "* [Chemical Engineering Analysis](http://jckantor.github.io/CBE20255/) (Jeffrey Kantor)\n",
    "* and many more!"
   ]
  },
  {
   "cell_type": "code",
   "execution_count": null,
   "metadata": {
    "collapsed": true
   },
   "outputs": [],
   "source": []
  }
 ],
 "metadata": {
  "celltoolbar": "Slideshow",
  "kernelspec": {
   "display_name": "Python 2",
   "language": "python",
   "name": "python2"
  },
  "language_info": {
   "codemirror_mode": {
    "name": "ipython",
    "version": 2
   },
   "file_extension": ".py",
   "mimetype": "text/x-python",
   "name": "python",
   "nbconvert_exporter": "python",
   "pygments_lexer": "ipython2",
   "version": "2.7.10"
  }
 },
 "nbformat": 4,
 "nbformat_minor": 0
}
