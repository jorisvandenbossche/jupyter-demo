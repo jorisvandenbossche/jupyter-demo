{
 "cells": [
  {
   "cell_type": "markdown",
   "metadata": {
    "slideshow": {
     "slide_type": "slide"
    }
   },
   "source": [
    "<CENTER>\n",
    "  <header>\n",
    "    <img src=\"images/jupyter.svg\" style=\"height: 400px\" />\n",
    "    <h3>November 30, 2015</h3>\n",
    "    <p></p>\n",
    "    <h3>Joris Van den Bossche, Stijn Van Hoey, Michiel Stock</h3>\n",
    "    <p></p>\n",
    "Source: <a href=\"https://github.ugent.be/bw10/jupyter-demo\">https://github.ugent.be/bw10/jupyter-demo</a>\n",
    "  </header>\n",
    "</CENTER>"
   ]
  },
  {
   "cell_type": "markdown",
   "metadata": {
    "slideshow": {
     "slide_type": "slide"
    }
   },
   "source": [
    "# What is Jupyter?"
   ]
  },
  {
   "cell_type": "markdown",
   "metadata": {
    "slideshow": {
     "slide_type": "fragment"
    }
   },
   "source": [
    "Open source, interactive data science and scientific computing platform across over 40 programming languages (Python, Julia, R and many more).\n"
   ]
  },
  {
   "cell_type": "markdown",
   "metadata": {
    "slideshow": {
     "slide_type": "fragment"
    }
   },
   "source": [
    "* A web based notebook"
   ]
  },
  {
   "cell_type": "markdown",
   "metadata": {
    "slideshow": {
     "slide_type": "fragment"
    }
   },
   "source": [
    "* An ecosystem of tools to run, share, communicate, present, .. the content of the computable content"
   ]
  },
  {
   "cell_type": "markdown",
   "metadata": {
    "slideshow": {
     "slide_type": "slide"
    }
   },
   "source": [
    "# The Jupyter Notebook"
   ]
  },
  {
   "cell_type": "markdown",
   "metadata": {
    "slideshow": {
     "slide_type": "fragment"
    }
   },
   "source": [
    "* web application\n",
    "* combine live code with explanatory next, equations, images, visualizations and HTML/JavaScript widgets"
   ]
  },
  {
   "cell_type": "markdown",
   "metadata": {
    "slideshow": {
     "slide_type": "fragment"
    }
   },
   "source": [
    "## Showtime: \n",
    "* [Intro to the Notebook](examples/Intro to the Notebook.ipynb)\n",
    "* [R and other kernels in Notebook](examples/R Examples.ipynb)"
   ]
  },
  {
   "cell_type": "markdown",
   "metadata": {
    "slideshow": {
     "slide_type": "slide"
    }
   },
   "source": [
    "# Jupyter as scientific and collaboration tool"
   ]
  },
  {
   "cell_type": "markdown",
   "metadata": {
    "slideshow": {
     "slide_type": "fragment"
    }
   },
   "source": [
    "The notebook is powerful to do quick data analysis, explore an idea and communicate about it:"
   ]
  },
  {
   "cell_type": "markdown",
   "metadata": {
    "slideshow": {
     "slide_type": "fragment"
    }
   },
   "source": [
    "* [Classifying good from bad spectra](examples/Examples_Michiel/Research/Classifiers.html)\n",
    "* [How far is everyone living from a public park in Antwerp?](examples/Antwerp_distance_to_green_area.ipynb)"
   ]
  },
  {
   "cell_type": "markdown",
   "metadata": {
    "slideshow": {
     "slide_type": "subslide"
    }
   },
   "source": [
    "Other in-house examples to check out yourself:\n",
    "* [Parallel computing](https://github.ugent.be/bw10/cluster_computing/tree/master/python)\n",
    "* [hydropy package tutorial](http://nbviewer.ipython.org/github/stijnvanhoey/hydropy/blob/master/hydropy_tutorial.ipynb)\n",
    "* [Collaborative workflow in git](https://github.ugent.be/bw10/coder_meetings/blob/master/2015_01_28_slides_collaborative_workflow_git/collaborative-development-workflow.ipynb)\n",
    "* [How to improve code performance](https://github.ugent.be/bw10/coder_meetings/blob/master/2015_04_23_performance/Efficiency.ipynb)\n",
    "* [How to do unit testing](https://github.ugent.be/bw10/coder_meetings/blob/master/2014_10_02_meeting/demo_unittests.ipynb)\n",
    "* [Analysis of car registrations in Belgium 2014](https://github.com/stijnvanhoey/open_data_showcases/blob/master/vehicle_registration_example/car_data.ipynb)\n",
    "* ..."
   ]
  },
  {
   "cell_type": "markdown",
   "metadata": {
    "slideshow": {
     "slide_type": "subslide"
    }
   },
   "source": [
    "### Export options to share ideas:\n",
    "<img src=\"images/IPynbWorkflows.png\" style=\"height: 400px\" />"
   ]
  },
  {
   "cell_type": "markdown",
   "metadata": {
    "slideshow": {
     "slide_type": "subslide"
    }
   },
   "source": [
    "## nbviewer: sharing online notebooks"
   ]
  },
  {
   "cell_type": "markdown",
   "metadata": {
    "slideshow": {
     "slide_type": "fragment"
    }
   },
   "source": [
    "* http://nbviewer.jupyter.org/"
   ]
  },
  {
   "cell_type": "markdown",
   "metadata": {
    "slideshow": {
     "slide_type": "slide"
    }
   },
   "source": [
    "# Jupyter in education"
   ]
  },
  {
   "cell_type": "markdown",
   "metadata": {
    "slideshow": {
     "slide_type": "fragment"
    }
   },
   "source": [
    "It can be used for:\n",
    "\n",
    "* teaching material - in general- (hands on exercises)\n",
    "* presentation\n",
    "* text book\n",
    "* grading"
   ]
  },
  {
   "cell_type": "markdown",
   "metadata": {
    "slideshow": {
     "slide_type": "subslide"
    }
   },
   "source": [
    "### Notebooks as teaching material\n",
    "* [BOT course](https://github.ugent.be/bw10courses/I001770_BOT)\n",
    "* [Guest course at UNESCO-IHE about dynamical modelling](https://github.com/stijnvanhoey/2013_UNESCO_uncertainty_course)\n",
    "* [Python intro for master/bachelor thesis students](https://github.ugent.be/bw10courses/scientific_python_course)"
   ]
  },
  {
   "cell_type": "markdown",
   "metadata": {
    "slideshow": {
     "slide_type": "subslide"
    }
   },
   "source": [
    "### Notebooks as presentation - examples\n",
    "* This presentation is a notebook...\n",
    "* For example, next lesson of **scientific computing** handles about **game of life**:\n",
    "[Game of Life](examples/game_of_life.ipynb)\n",
    "* In environmental science, a **geographical component** is regularly seen:\n",
    "[GIS example](examples/gis.ipynb)"
   ]
  },
  {
   "cell_type": "markdown",
   "metadata": {
    "slideshow": {
     "slide_type": "fragment"
    }
   },
   "source": [
    "**Interactivity** is crucial benefit!"
   ]
  },
  {
   "cell_type": "markdown",
   "metadata": {
    "collapsed": true,
    "slideshow": {
     "slide_type": "subslide"
    }
   },
   "source": [
    "### Notebooks as text books - examples"
   ]
  },
  {
   "cell_type": "markdown",
   "metadata": {},
   "source": [
    "### In house\n",
    "\n",
    "[Currently developed course on optimization](examples/Examples_Michiel/Teaching/Chapter1.ipynb)"
   ]
  },
  {
   "cell_type": "markdown",
   "metadata": {
    "slideshow": {
     "slide_type": "fragment"
    }
   },
   "source": [
    "And converting this notebook to pdf:\n",
    "\n",
    "    > jupyter nbconvert Chapter1.ipynb --to latex --template course.tplx\n",
    "    > pdflatex Chapter1.tex\n",
    "\n",
    "[And its export to pdf](examples/Examples_Michiel/Teaching/Chapter1.pdf)\n",
    "\n",
    "    "
   ]
  },
  {
   "cell_type": "markdown",
   "metadata": {
    "slideshow": {
     "slide_type": "fragment"
    }
   },
   "source": [
    "### External\n",
    "* [12 Steps to Navier-Stokes](https://github.com/barbagroup/CFDPython) (Lorena Barba)\n",
    "* [Intro to Applied Bioinformatics](https://github.com/gregcaporaso/An-Introduction-To-Applied-Bioinformatics) (Greg Caporaso)\n",
    "* [Probabilistic Programming & Bayesian Methods for Hackers](https://camdavidsonpilon.github.io/Probabilistic-Programming-and-Bayesian-Methods-for-Hackers/) (Cam Davidson-Pilon)\n",
    "* [Chemical Engineering Analysis](http://jckantor.github.io/CBE20255/) (Jeffrey Kantor)\n",
    "* and many more!"
   ]
  },
  {
   "cell_type": "markdown",
   "metadata": {
    "slideshow": {
     "slide_type": "subslide"
    }
   },
   "source": [
    "### Notebooks for grading student assignments"
   ]
  },
  {
   "cell_type": "code",
   "execution_count": 2,
   "metadata": {
    "collapsed": false,
    "slideshow": {
     "slide_type": "fragment"
    }
   },
   "outputs": [
    {
     "data": {
      "text/html": [
       "\n",
       "        <iframe\n",
       "            width=\"850\"\n",
       "            height=\"500\"\n",
       "            src=\"http://nbgrader.readthedocs.org/en/stable/user_guide/04_autograding.html\"\n",
       "            frameborder=\"0\"\n",
       "            allowfullscreen\n",
       "        ></iframe>\n",
       "        "
      ],
      "text/plain": [
       "<IPython.lib.display.IFrame at 0x7194320>"
      ]
     },
     "execution_count": 2,
     "metadata": {},
     "output_type": "execute_result"
    }
   ],
   "source": [
    "from IPython.display import IFrame\n",
    "IFrame(\"http://nbgrader.readthedocs.org/en/stable/user_guide/04_autograding.html\", width=850, height=500)"
   ]
  },
  {
   "cell_type": "markdown",
   "metadata": {
    "slideshow": {
     "slide_type": "slide"
    }
   },
   "source": [
    "# Jupyter out there"
   ]
  },
  {
   "cell_type": "markdown",
   "metadata": {
    "slideshow": {
     "slide_type": "subslide"
    }
   },
   "source": [
    "![](https://cloud.google.com/datalab/images/intro-notebook.png)\n",
    "Source: https://cloud.google.com/datalab"
   ]
  },
  {
   "cell_type": "markdown",
   "metadata": {
    "slideshow": {
     "slide_type": "subslide"
    }
   },
   "source": [
    "![IBM](https://knowledgeanyhow.org/static/images/kawb.png)\n",
    "Source: https://knowledgeanyhow.org"
   ]
  },
  {
   "cell_type": "markdown",
   "metadata": {
    "slideshow": {
     "slide_type": "subslide"
    }
   },
   "source": [
    "![](http://blogs.technet.com/resized-image.ashx/__size/550x0/__key/communityserver-blogs-components-weblogfiles/00-00-01-02-52/Jupyter_2D00_1.1.png)\n",
    "Source: https://blogs.technet.com"
   ]
  },
  {
   "cell_type": "markdown",
   "metadata": {
    "slideshow": {
     "slide_type": "subslide"
    }
   },
   "source": [
    "## Jupyter at O'Reilly\n",
    "\n",
    "https://www.oreilly.com/ideas/jupyter-at-oreilly\n",
    "\n",
    "https://www.oreilly.com/learning/intro-to-svm"
   ]
  },
  {
   "cell_type": "markdown",
   "metadata": {
    "slideshow": {
     "slide_type": "slide"
    }
   },
   "source": [
    "# Summary\n",
    "\n",
    "Jupyter Notebook enables an interactive coding environment, with applications in:\n",
    "* Data exploration\n",
    "* Scientific analysis and communication\n",
    "* Teaching"
   ]
  },
  {
   "cell_type": "markdown",
   "metadata": {
    "slideshow": {
     "slide_type": "slide"
    }
   },
   "source": [
    "## How can I start using Jupyter notebooks?"
   ]
  },
  {
   "cell_type": "markdown",
   "metadata": {
    "slideshow": {
     "slide_type": "fragment"
    }
   },
   "source": [
    "A hosted Jupyter environment:\n",
    "\n",
    "- Quick try: https://try.jupyter.org/\n",
    "- **Snake**: https://snake.ugent.be (available for all university personnel/students)\n",
    "  - You can use your UGent CAS account to log in (but first need to activate it [here](https://gaia.ugent.be/helios/account.cgi))\n",
    "- **Eraser**:  https://eraser1.ugent.be:8000/ (only for Biomath people)\n",
    "  - Log in with your eraser-account. This runs the notebooks on the eraser cluster\n",
    "\n",
    "Personal computer/laptop: our advice is to use [Anaconda](https://www.continuum.io/downloads)\n"
   ]
  },
  {
   "cell_type": "markdown",
   "metadata": {
    "slideshow": {
     "slide_type": "subslide"
    }
   },
   "source": [
    "### Personal install: Anaconda"
   ]
  },
  {
   "cell_type": "markdown",
   "metadata": {
    "slideshow": {
     "slide_type": "fragment"
    }
   },
   "source": [
    "[Anaconda](https://www.continuum.io/downloads) provides an entire suite of (python oriented) packages, including all functionalities of the Jupyter Notebook:"
   ]
  },
  {
   "cell_type": "code",
   "execution_count": 3,
   "metadata": {
    "collapsed": false,
    "slideshow": {
     "slide_type": "fragment"
    }
   },
   "outputs": [
    {
     "data": {
      "text/html": [
       "\n",
       "        <iframe\n",
       "            width=\"900\"\n",
       "            height=\"300\"\n",
       "            src=\"https://www.continuum.io/why-anaconda\"\n",
       "            frameborder=\"0\"\n",
       "            allowfullscreen\n",
       "        ></iframe>\n",
       "        "
      ],
      "text/plain": [
       "<IPython.lib.display.IFrame at 0x71944a8>"
      ]
     },
     "execution_count": 3,
     "metadata": {},
     "output_type": "execute_result"
    }
   ],
   "source": [
    "IFrame('https://www.continuum.io/why-anaconda', width=900, height=300)"
   ]
  },
  {
   "cell_type": "markdown",
   "metadata": {
    "slideshow": {
     "slide_type": "subslide"
    }
   },
   "source": [
    "#### Don' t be afraid of the black screen...\n",
    "... just do\n",
    "\n",
    "        jupyter notebook\n",
    "        \n",
    "![](./images/start_notebook.png)"
   ]
  },
  {
   "cell_type": "markdown",
   "metadata": {
    "slideshow": {
     "slide_type": "slide"
    }
   },
   "source": [
    "# To close\n",
    "\n",
    "Feedback? [Google form](https://docs.google.com/forms/d/1Oe2Uo6pY-0GlF1os5vCIcv0AFSWuatQK6pt73mwswcE/viewform?c=0&w=1)\n"
   ]
  },
  {
   "cell_type": "code",
   "execution_count": null,
   "metadata": {
    "collapsed": true
   },
   "outputs": [],
   "source": []
  }
 ],
 "metadata": {
  "celltoolbar": "Slideshow",
  "kernelspec": {
   "display_name": "Python 3",
   "language": "python",
   "name": "python3"
  },
  "language_info": {
   "codemirror_mode": {
    "name": "ipython",
    "version": 3
   },
   "file_extension": ".py",
   "mimetype": "text/x-python",
   "name": "python",
   "nbconvert_exporter": "python",
   "pygments_lexer": "ipython3",
   "version": "3.5.0"
  }
 },
 "nbformat": 4,
 "nbformat_minor": 0
}
