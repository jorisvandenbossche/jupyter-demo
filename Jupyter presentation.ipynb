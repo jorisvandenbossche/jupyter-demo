{
 "cells": [
  {
   "cell_type": "markdown",
   "metadata": {
    "slideshow": {
     "slide_type": "slide"
    }
   },
   "source": [
    "<CENTER>\n",
    "  <header>\n",
    "    <img src=\"images/jupyter.svg\" style=\"height: 400px\" />\n",
    "    <h3>November 30, 2015</h3>\n",
    "    <p></p>\n",
    "    <h3>Joris Van den Bossche, Stijn Van Hoey, Michiel Stock</h3>\n",
    "    <p></p>\n",
    "Source: <a href=\"https://github.ugent.be/bw10/jupyter-demo\">https://github.ugent.be/bw10/jupyter-demo</a>\n",
    "  </header>\n",
    "</CENTER>"
   ]
  },
  {
   "cell_type": "markdown",
   "metadata": {
    "slideshow": {
     "slide_type": "slide"
    }
   },
   "source": [
    "# What is Jupyter?"
   ]
  },
  {
   "cell_type": "markdown",
   "metadata": {
    "slideshow": {
     "slide_type": "fragment"
    }
   },
   "source": [
    "Open source, interactive data science and scientific computing platform across over 40 programming languages (Python, Julia, R and many more).\n"
   ]
  },
  {
   "cell_type": "markdown",
   "metadata": {
    "slideshow": {
     "slide_type": "fragment"
    }
   },
   "source": [
    "* A web based notebook"
   ]
  },
  {
   "cell_type": "markdown",
   "metadata": {
    "slideshow": {
     "slide_type": "fragment"
    }
   },
   "source": [
    "* An ecosystem of tools to run, share, communicate, present, .. the content of the computable content"
   ]
  },
  {
   "cell_type": "markdown",
   "metadata": {
    "slideshow": {
     "slide_type": "slide"
    }
   },
   "source": [
    "# The Jupyter Notebook"
   ]
  },
  {
   "cell_type": "markdown",
   "metadata": {
    "slideshow": {
     "slide_type": "fragment"
    }
   },
   "source": [
    "* web application\n",
    "* combine live code with explanatory next, equations, images, visualizations and HTML/JavaScript widgets"
   ]
  },
  {
   "cell_type": "markdown",
   "metadata": {
    "slideshow": {
     "slide_type": "fragment"
    }
   },
   "source": [
    "## Showtime: \n",
    "* [Intro to the Notebook](examples/Intro to the Notebook.ipynb)\n",
    "* [R and other kernels in Notebook](examples/R Examples.ipynb)"
   ]
  },
  {
   "cell_type": "markdown",
   "metadata": {
    "slideshow": {
     "slide_type": "slide"
    }
   },
   "source": [
    "# Jupyter as scientific and collaboration tool"
   ]
  },
  {
   "cell_type": "markdown",
   "metadata": {
    "slideshow": {
     "slide_type": "fragment"
    }
   },
   "source": [
    "The notebook is powerful to do quick data analysis, explore an idea and communicate about it:"
   ]
  },
  {
   "cell_type": "markdown",
   "metadata": {
    "slideshow": {
     "slide_type": "fragment"
    }
   },
   "source": [
    "* [How far is everyone living from a public park in Antwerp?](examples/TODO.ipynb) link is TODO\n",
    "* [Classifying good from bad spectra](examples/Examples_Michiel/Research/Classifiers.html)\n",
    "\n",
    "Other in-house examples to chheck out yourself:\n",
    "* [Parallel coomputing](https://github.ugent.be/bw10/cluster_computing/tree/master/python)\n",
    "* [hydropy package tutorial](http://nbviewer.ipython.org/github/stijnvanhoey/hydropy/blob/master/hydropy_tutorial.ipynb)\n",
    "* [Collaborative workflow in git](https://github.ugent.be/bw10/coder_meetings/blob/master/2015_01_28_slides_collaborative_workflow_git/collaborative-development-workflow.ipynb)\n",
    "* [How to improve code performance](https://github.ugent.be/bw10/coder_meetings/blob/master/2015_04_23_performance/Efficiency.ipynb)\n",
    "* [How to do unit testing](https://github.ugent.be/bw10/coder_meetings/blob/master/2014_10_02_meeting/demo_unittests.ipynb)\n",
    "* [Analysis of car registrations in Belgium 2014](https://github.com/stijnvanhoey/open_data_showcases/blob/master/vehicle_registration_example/car_data.ipynb)\n",
    "* ..."
   ]
  },
  {
   "cell_type": "markdown",
   "metadata": {
    "slideshow": {
     "slide_type": "subslide"
    }
   },
   "source": [
    "### Export options to share ideas:\n",
    "<img src=\"images/IPynbWorkflows.png\" style=\"height: 400px\" />"
   ]
  },
  {
   "cell_type": "markdown",
   "metadata": {
    "slideshow": {
     "slide_type": "slide"
    }
   },
   "source": [
    "# Jupyter in education"
   ]
  },
  {
   "cell_type": "markdown",
   "metadata": {
    "slideshow": {
     "slide_type": "subslide"
    }
   },
   "source": [
    "Already used at BW10:\n",
    "\n",
    "* [BOT course](https://github.ugent.be/bw10courses/I001770_BOT)\n",
    "* [Guest course at UNESCO-IHE about dynamical modelling](https://github.com/stijnvanhoey/2013_UNESCO_uncertainty_course)\n",
    "* [Python intro for master/bachelor thesis students](https://github.ugent.be/bw10courses/scientific_python_course)\n",
    "* ..."
   ]
  },
  {
   "cell_type": "markdown",
   "metadata": {
    "slideshow": {
     "slide_type": "fragment"
    }
   },
   "source": [
    "It can be used for:\n",
    "\n",
    "* teaching material - in general- (hands on exercises)\n",
    "* presentation\n",
    "* text book\n",
    "* grading"
   ]
  },
  {
   "cell_type": "markdown",
   "metadata": {
    "slideshow": {
     "slide_type": "subslide"
    }
   },
   "source": [
    "### Notebooks as presentation - examples\n",
    "* For example, next lesson of **scientific computing** handles about **game of life**:\n",
    "[Game of Life]('examples/game_of_life.ipynb')\n",
    "* In environmentam science, a **geographical component** is regularly seen:\n",
    "[GIS example]('examples/gis.ipynb')"
   ]
  },
  {
   "cell_type": "markdown",
   "metadata": {
    "slideshow": {
     "slide_type": "fragment"
    }
   },
   "source": [
    "**Interactivity** is crucial benefit!"
   ]
  },
  {
   "cell_type": "markdown",
   "metadata": {
    "collapsed": true,
    "slideshow": {
     "slide_type": "subslide"
    }
   },
   "source": [
    "### Notebooks as text books - examples"
   ]
  },
  {
   "cell_type": "markdown",
   "metadata": {
    "slideshow": {
     "slide_type": "fragment"
    }
   },
   "source": [
    "### In house\n",
    "* [Current developes course on optimization](examples/Examples_Michiel/Teaching/Chapter1.ipynb)"
   ]
  },
  {
   "cell_type": "markdown",
   "metadata": {
    "slideshow": {
     "slide_type": "fragment"
    }
   },
   "source": [
    "### External\n",
    "* [12 Steps to Navier-Stokes](https://github.com/barbagroup/CFDPython) (Lorena Barba)\n",
    "* [Intro to Applied Bioinformatics](https://github.com/gregcaporaso/An-Introduction-To-Applied-Bioinformatics) (Greg Caporaso)\n",
    "* [Chemical Engineering Analysis](http://jckantor.github.io/CBE20255/) (Jeffrey Kantor)\n",
    "* and many more!"
   ]
  },
  {
   "cell_type": "code",
   "execution_count": null,
   "metadata": {
    "collapsed": true
   },
   "outputs": [],
   "source": []
  },
  {
   "cell_type": "markdown",
   "metadata": {
    "slideshow": {
     "slide_type": "slide"
    }
   },
   "source": [
    "![](http://jupyter.org/assets/hublogo.svg)"
   ]
  },
  {
   "cell_type": "markdown",
   "metadata": {
    "slideshow": {
     "slide_type": "subslide"
    }
   },
   "source": [
    "# JupyterHub\n",
    "\n",
    "A hosted Jupyter environment:\n",
    "\n",
    "- https://try.jupyter.org/\n",
    "    \n",
    "- **Snake**: https://snake.ugent.be (available for all university personnel/students)\n",
    "  - To use this, you first have to activate a helios account: https://helpdesk.ugent.be/account/helios.php. Once activated, you can use your UGent CAS account to log in.\n",
    "\n",
    "- **Eraser**:  https://eraser1.ugent.be:8000/ (only for Biomath people)\n",
    "  - Log in with your eraser-account. This runs the notebooks on the eraser cluster"
   ]
  }
 ],
 "metadata": {
  "celltoolbar": "Slideshow",
  "kernelspec": {
   "display_name": "Python 3",
   "language": "python",
   "name": "python3"
  },
  "language_info": {
   "codemirror_mode": {
    "name": "ipython",
    "version": 3
   },
   "file_extension": ".py",
   "mimetype": "text/x-python",
   "name": "python",
   "nbconvert_exporter": "python",
   "pygments_lexer": "ipython3",
   "version": "3.5.0"
  }
 },
 "nbformat": 4,
 "nbformat_minor": 0
}
